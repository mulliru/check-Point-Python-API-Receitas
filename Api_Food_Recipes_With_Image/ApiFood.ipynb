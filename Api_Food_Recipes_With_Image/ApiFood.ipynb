{
 "cells": [
  {
   "cell_type": "code",
   "execution_count": 18,
   "metadata": {},
   "outputs": [
    {
     "name": "stdout",
     "output_type": "stream",
     "text": [
      "{'s': 1, 'd': [{'id': '100', 'Title': 'Stuffed Eggplants and Zucchini in a Rich Tomato Sauce (Baatingan w Kusaa Bil Banadoura)', 'Ingredients': {'1': '2½ tbsp olive oil', '2': '2 onions, finely diced (2½ cups/350g)', '3': '4 cups/1kg tomato puree', '4': '12¼ oz/350g ripe tomatoes (2 large), coarsely grated', '5': '3¼ cups/750ml chicken stock or water', '6': '1 tbsp sugar', '7': 'Salt and black pepper', '8': '¾ cup plus 2 tbsp/175g Egyptian rice or arborio rice (see note below)', '9': '9 oz/250g ground lamb', '10': '¼ cup/60ml olive oil', '11': '½ tsp ground cinnamon', '12': '¾ tsp ground allspice', '13': '½ tsp ground cumin', '14': 'About 3 green onions, finely sliced (⅓ cup/35g)', '15': '¾ cup/15g mint leaves, roughly chopped', '16': '¾ cup/15g parsley leaves, roughly chopped', '17': '1 cup/20g dill, roughly chopped', '18': '1 red chile, seeded and finely diced (1 tbsp/10g)', '19': '1 lemon: finely grate the zest to get 1 tsp', '20': '3 tbsp water', '21': '1½ lb/700g eggplants (between 3 and 6, depending on size)', '22': '1½ lb/700g zucchini (between 3 and 6, depending on size)', '23': '7 tbsp/100ml olive oil', '24': '6 garlic cloves, finely chopped', '25': '1 tbsp coriander seeds, lightly crushed in a mortar and pestle', '26': '1 red chile, seeded and finely diced (1 tbsp/10g)', '27': '¼ cup/5g parsley leaves, roughly chopped', '28': '¼ cup/5g mint leaves, roughly torn', '29': '¼ cup/5g dill leaves', '30': '1 green onion, thinly sliced (2 tbsp/10g)', '31': '1 cup/250g Greek yogurt'}, 'Instructions': 'To make the sauce, put the oil into a saucepan or casserole pan with a lid—about 10 inches/25cm wide—and place over medium heat. Add the onions and cook for about 10 minutes, stirring frequently, until soft and caramelized. Add the rest of the sauce ingredients, along with 2½ tsp of salt and a good grind of black pepper. Simmer over medium heat for about 10 minutes, stirring from time to time, then remove from the heat and set aside.\\nTo make the stuffing, while the sauce is cooking, place all the ingredients in a large bowl with 1½ tsp of salt and a good grind of black pepper. Mix well, using your hands to make sure that everything is well incorporated. If making in advance, keep in the fridge until ready to use.\\nTrim the stalks from the eggplants, then insert a manakra (or peeler or corer) into the eggplant; you want it to be very close to the skin—about ⅛ inch/3mm away—but not so close that it tears and won’t hold its shape when it’s stuffed. Scoop out the flesh to create a generous cavity. You don’t need the flesh anymore, but keep it for another recipe; it can be cut into cubes and steamed or added to your next omelette. If your eggplants are particularly large, slice them in half, crosswise, and scoop out the flesh using a regular small serrated knife—be sure to keep one end of each half intact, so that the stuffing does not fall out!\\nUse the manakra or a swivel peeler to scoop out the zucchini flesh. Keep about ⅛ inch/3mm of flesh attached to the skin inside the zucchini and about ½ inch/1cm from the end intact—they need to be robust enough to keep the stuffing inside. Again, keep the scooped-out flesh to use elsewhere.\\nUsing your hands, so that you can push in a bit of stuffing at a time, fill all the eggplant and zucchini cavities. Stop filling them about ½ inch/1cm from the top of each vegetable; the stuffing needs some space to expand inside the vegetables when they are cooking.\\nGently lower the stuffed vegetables into the sauce. They won’t fit in a single layer, but try to avoid too much overlap and submerge them in the sauce as much as you can. Return the sauce to medium heat and, once simmering, decrease the heat to low. Cover the pan and simmer very gently for 90 minutes, or until the rice is completely cooked through and soft—test if it is ready by sticking a knife into the middle of one of the vegetables; it should go in very easily. Don’t worry if some of the rice/stuffing spills into the tomato sauce, this can happen and it will be fine when served.\\nTo make the adha, meanwhile, put the oil into a small frying pan and place over medium heat. After about 1 minute, add the garlic and decrease the heat to medium-low. Cook for about 5 minutes, stirring very often, until the garlic is golden and crispy. Keep a close eye on the pan here; you don’t want the oil to get too hot and for the garlic to burn. Reserving the oil as you pour, strain the garlic through a sieve. Set the garlic aside—it will crisp up as it cools down—and return the oil to the pan. Add the coriander seeds and chile and cook for about 1 minute, stirring a few times, until fragrant. Remove from the heat, transfer to a separate bowl, and set aside until needed.\\nWhen the vegetables are cooked and the sauce is thick and rich (but still pourable), use a slotted spoon to carefully lift the vegetables out of the pan. Pour the sauce onto a large serving platter (or individual serving plates) with a rim and top with the stuffed vegetables. Spoon on the adha—the coriander-chile oil first, followed by the fried garlic—then sprinkle with the fresh herbs and green onion. Serve warm or at room temperature, with the yogurt spooned alongside.', 'Image': '//20fix.com/xfood/img/stuffed-eggplants-and-zucchini-tomato-sauce-falastin.jpg'}], 't': 1, 'p': {'limitstart': 0, 'limit': 25, 'total': 1, 'pagesStart': 1, 'pagesStop': 1, 'pagesCurrent': 1, 'pagesTotal': 1}}\n"
     ]
    }
   ],
   "source": [
    "import requests\n",
    "\n",
    "url = \"https://food-recipes-with-images.p.rapidapi.com/\"\n",
    "\n",
    "querystring = {\"q\":\"Stuffed Eggplants and Zucchini in a Rich Tomato Sauce\"}\n",
    "\n",
    "headers = {\n",
    "\t\"X-RapidAPI-Key\": \"139d32fed9mshcd1dc3054219964p180a64jsn619b8b40b6cd\",\n",
    "\t\"X-RapidAPI-Host\": \"food-recipes-with-images.p.rapidapi.com\"\n",
    "}\n",
    "\n",
    "response = requests.get(url, headers=headers, params=querystring)\n",
    "\n",
    "print(response.json())"
   ]
  }
 ],
 "metadata": {
  "kernelspec": {
   "display_name": "Python 3",
   "language": "python",
   "name": "python3"
  },
  "language_info": {
   "codemirror_mode": {
    "name": "ipython",
    "version": 3
   },
   "file_extension": ".py",
   "mimetype": "text/x-python",
   "name": "python",
   "nbconvert_exporter": "python",
   "pygments_lexer": "ipython3",
   "version": "3.10.9"
  }
 },
 "nbformat": 4,
 "nbformat_minor": 2
}
