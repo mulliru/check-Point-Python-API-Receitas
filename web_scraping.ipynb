{
  "cells": [
    {
      "cell_type": "markdown",
      "id": "985af3ce",
      "metadata": {
        "id": "985af3ce"
      },
      "source": [
        "### Web Scraping com BeautifulSoup\n",
        "\n",
        "Raspando os dados da internet para projetos de ciência de dados.\n",
        "\n"
      ]
    },
    {
      "cell_type": "code",
      "execution_count": 11,
      "id": "b01c5c99",
      "metadata": {
        "colab": {
          "base_uri": "https://localhost:8080/"
        },
        "id": "b01c5c99",
        "outputId": "62151299-71f5-474a-eca6-80d275b99889"
      },
      "outputs": [
        {
          "data": {
            "text/plain": [
              "<Response [200]>"
            ]
          },
          "execution_count": 11,
          "metadata": {},
          "output_type": "execute_result"
        }
      ],
      "source": [
        "import requests\n",
        "page = requests.get(\"https://gold-anemone-wig.cyclic.app/receitas\")\n",
        "\n",
        "#resposta do servidor\n",
        "page\n",
        "\n"
      ]
    },
    {
      "cell_type": "code",
      "execution_count": 3,
      "id": "c7dc7258",
      "metadata": {
        "colab": {
          "base_uri": "https://localhost:8080/"
        },
        "id": "c7dc7258",
        "outputId": "0502660e-37e8-4281-f23e-dcdf2573b38c"
      },
      "outputs": [
        {
          "data": {
            "text/plain": [
              "b'[{\"id\":1,\"receita\":\"Macarr\\xc3\\xa3o \\xc3\\xa0 Carbonara\",\"ingredientes\":\"200g de espaguete, 100g de pancetta ou bacon, 2 ovos, 1 x\\xc3\\xadcara de queijo parmes\\xc3\\xa3o ralado, 2 dentes de alho, sal e pimenta a gosto\",\"modo_preparo\":\"1. Cozinhe o espaguete al dente de acordo com as instru\\xc3\\xa7\\xc3\\xb5es da embalagem. 2. Enquanto isso, frite a pancetta ou bacon em uma frigideira at\\xc3\\xa9 que fique crocante. 3. Em uma tigela, bata os ovos e adicione o queijo parmes\\xc3\\xa3o ralado. 4. Quando o espaguete estiver pronto, escorra e reserve um pouco da \\xc3\\xa1gua do cozimento. 5. Misture o espaguete cozido, a pancetta frita e o alho picado na frigideira. 6. Retire do fogo e adicione a mistura de ovos e queijo, mexendo rapidamente para n\\xc3\\xa3o coagular. Se necess\\xc3\\xa1rio, adicione um pouco da \\xc3\\xa1gua do cozimento para obter a consist\\xc3\\xaancia desejada. 7. Tempere com sal e pimenta a gosto. Sirva imediatamente.\",\"link_imagem\":\"https://i.ytimg.com/vi/rY4mz5TLtz4/maxresdefault.jpg\",\"tipo\":\"salgado\",\"created_at\":\"2023-12-31T01:54:02.909Z\",\"IngredientesBase\":[{\"id\":1,\"nomesIngrediente\":[\"espaguete\",\"pancetta\",\"ovos\",\"queijo parmes\\xc3\\xa3o\",\"alho\"],\"receita_id\":1,\"created_at\":\"2023-12-31T01:54:02.909Z\"}]},{\"id\":2,\"receita\":\"Bolo de Cenoura\",\"ingredientes\":\"3 cenouras m\\xc3\\xa9dias, 3 ovos, 1 x\\xc3\\xadcara de \\xc3\\xb3leo, 2 x\\xc3\\xadcaras de farinha de trigo, 2 x\\xc3\\xadcaras de a\\xc3\\xa7\\xc3\\xbacar, 1 colher de sopa de fermento em p\\xc3\\xb3\",\"modo_preparo\":\"1. Descasque e corte as cenouras em peda\\xc3\\xa7os. 2. No liquidificador, bata as cenouras, os ovos e o \\xc3\\xb3leo at\\xc3\\xa9 obter uma mistura homog\\xc3\\xaanea. 3. Em uma tigela, adicione a farinha de trigo, o a\\xc3\\xa7\\xc3\\xbacar e o fermento. Misture bem. 4. Acrescente a mistura l\\xc3\\xadquida do liquidificador \\xc3\\xa0 tigela e mexa at\\xc3\\xa9 incorporar todos os ingredientes. 5. Despeje a massa em uma forma untada e leve ao forno preaquecido a 180\\xc2\\xb0C por aproximadamente 40 minutos ou at\\xc3\\xa9 dourar. 6. Retire do forno, deixe esfriar e desenforme.\",\"link_imagem\":\"https://i.ytimg.com/vi/bBqEpmMuMhk/maxresdefault.jpg\",\"tipo\":\"doce\",\"created_at\":\"2023-12-31T01:54:46.940Z\",\"IngredientesBase\":[{\"id\":2,\"nomesIngrediente\":[\"cenoura\",\"ovos\"],\"receita_id\":2,\"created_at\":\"2023-12-31T01:54:46.940Z\"}]},{\"id\":3,\"receita\":\"Salada Caesar\",\"ingredientes\":\"2 peitos de frango, alface romana, croutons, queijo parmes\\xc3\\xa3o ralado, molho Caesar (molho de anchova, azeite de oliva, maionese, suco de lim\\xc3\\xa3o, mostarda Dijon, alho, sal e pimenta)\",\"modo_preparo\":\"1. Tempere os peitos de frango com sal e pimenta e grelhe at\\xc3\\xa9 que estejam cozidos por completo. Corte em tiras. 2. Lave e rasgue as folhas de alface romana. 3. Prepare o molho Caesar misturando molho de anchova, azeite de oliva, maionese, suco de lim\\xc3\\xa3o, mostarda Dijon e alho. 4. Em uma tigela grande, misture a alface, os croutons e o queijo parmes\\xc3\\xa3o ralado. 5. Adicione as tiras de frango grelhado por cima. 6. Regue a salada com o molho Caesar e sirva.\",\"link_imagem\":\"https://s23209.pcdn.co/wp-content/uploads/2023/01/220905_DD_Chx-Caesar-Salad_051.jpg\",\"tipo\":\"salgado\",\"created_at\":\"2023-12-31T01:54:56.010Z\",\"IngredientesBase\":[{\"id\":3,\"nomesIngrediente\":[\"frango\",\"alface romana\",\"croutons\",\"queijo parmes\\xc3\\xa3o\",\"molho Caesar\"],\"receita_id\":3,\"created_at\":\"2023-12-31T01:54:56.010Z\"}]},{\"id\":4,\"receita\":\"Pudim de Leite Condensado\",\"ingredientes\":\"1 lata de leite condensado, 2 latas de leite (use a lata de leite condensado vazia para medir), 3 ovos, a\\xc3\\xa7\\xc3\\xbacar para caramelizar a forma\",\"modo_preparo\":\"1. Comece preparando a calda de caramelo: em uma panela, derreta a\\xc3\\xa7\\xc3\\xbacar at\\xc3\\xa9 obter um caramelo dourado. Despeje o caramelo em uma forma de pudim e espalhe bem, cobrindo todo o fundo da forma. 2. No liquidificador, bata o leite condensado, o leite e os ovos at\\xc3\\xa9 obter uma mistura homog\\xc3\\xaanea. 3. Despeje essa mistura na forma caramelizada. 4. Cubra a forma com papel-alum\\xc3\\xadnio e leve ao forno preaquecido a 180\\xc2\\xb0C em banho-maria por aproximadamente 1 hora ou at\\xc3\\xa9 que o pudim esteja firme. 5. Deixe esfriar, desenforme e sirva.\",\"link_imagem\":\"https://braziliankitchenabroad.com/wp-content/uploads/2020/09/pudim-brazilian-flan-20-500x500.jpg\",\"tipo\":\"doce\",\"created_at\":\"2023-12-31T01:55:03.627Z\",\"IngredientesBase\":[{\"id\":4,\"nomesIngrediente\":[\"leite condensado\",\"leite\",\"ovos\",\"a\\xc3\\xa7\\xc3\\xbacar\"],\"receita_id\":4,\"created_at\":\"2023-12-31T01:55:03.627Z\"}]},{\"id\":5,\"receita\":\"Salm\\xc3\\xa3o Grelhado com Molho de Lim\\xc3\\xa3o\",\"ingredientes\":\"4 fil\\xc3\\xa9s de salm\\xc3\\xa3o, suco de 2 lim\\xc3\\xb5es, 2 colheres de sopa de azeite de oliva, 2 dentes de alho picados, sal e pimenta a gosto\",\"modo_preparo\":\"1. Tempere os fil\\xc3\\xa9s de salm\\xc3\\xa3o com sal, pimenta, suco de lim\\xc3\\xa3o e alho picado. Deixe marinar por 30 minutos. 2. Aque\\xc3\\xa7a o azeite de oliva em uma frigideira e grelhe os fil\\xc3\\xa9s de salm\\xc3\\xa3o por cerca de 4 minutos de cada lado ou at\\xc3\\xa9 que estejam cozidos. 3. Sirva os fil\\xc3\\xa9s de salm\\xc3\\xa3o com o molho de lim\\xc3\\xa3o por cima.\",\"link_imagem\":\"https://www.mococa.com.br/wp-content/uploads/2022/03/Salmao-grelhao-ao-molho-de-limao.jpeg\",\"tipo\":\"salgado\",\"created_at\":\"2023-12-31T01:55:09.486Z\",\"IngredientesBase\":[{\"id\":5,\"nomesIngrediente\":[\"salm\\xc3\\xa3o\",\"lim\\xc3\\xa3o\",\"azeite de oliva\",\"alho\"],\"receita_id\":5,\"created_at\":\"2023-12-31T01:55:09.486Z\"}]},{\"id\":6,\"receita\":\"P\\xc3\\xa3o de Queijo\",\"ingredientes\":\"250g de polvilho doce, 100ml de leite, 100ml de \\xc3\\xa1gua, 80ml de \\xc3\\xb3leo, 1 ovo, 100g de queijo parmes\\xc3\\xa3o ralado, sal a gosto\",\"modo_preparo\":\"1. Em uma panela, aque\\xc3\\xa7a o leite, a \\xc3\\xa1gua e o \\xc3\\xb3leo at\\xc3\\xa9 ferver. 2. Despeje essa mistura sobre o polvilho doce e mexa at\\xc3\\xa9 formar uma massa. 3. Deixe a massa esfriar um pouco e adicione o ovo, o queijo parmes\\xc3\\xa3o ralado e sal a gosto. 4. Amasse bem at\\xc3\\xa9 que a massa esteja homog\\xc3\\xaanea. 5. Modele bolinhas com a massa e coloque em uma assadeira untada. 6. Leve ao forno preaquecido a 180\\xc2\\xb0C por aproximadamente 20 minutos ou at\\xc3\\xa9 que os p\\xc3\\xa3es de queijo estejam dourados.\",\"link_imagem\":\"https://www.allrecipes.com/thmb/t1_kc78zVgR-59-2lpPrSEXAWuE=/1500x0/filters:no_upscale():max_bytes(150000):strip_icc()/8796530-brazilian-cheese-bread-pao-de-queijo-Faith-Ang-4x3-1-2000-a00a691330fd450683950ec993b9a791.jpg\",\"tipo\":\"salgado\",\"created_at\":\"2023-12-31T01:55:14.753Z\",\"IngredientesBase\":[{\"id\":6,\"nomesIngrediente\":[\"polvilho doce\",\"leite\",\"\\xc3\\xa1gua\",\"\\xc3\\xb3leo\",\"ovo\",\"queijo parmes\\xc3\\xa3o\"],\"receita_id\":6,\"created_at\":\"2023-12-31T01:55:14.753Z\"}]},{\"id\":7,\"receita\":\"Sorvete de Chocolate\",\"ingredientes\":\"2 x\\xc3\\xadcaras de creme de leite, 1 x\\xc3\\xadcara de leite condensado, 1/2 x\\xc3\\xadcara de cacau em p\\xc3\\xb3, 1 colher de ch\\xc3\\xa1 de ess\\xc3\\xaancia de baunilha, 100g de chocolate meio amargo picado\",\"modo_preparo\":\"1. Em uma panela, aque\\xc3\\xa7a o creme de leite, o leite condensado, o cacau em p\\xc3\\xb3 e a ess\\xc3\\xaancia de baunilha at\\xc3\\xa9 que fique homog\\xc3\\xaaneo e quente. 2. Retire do fogo e adicione o chocolate meio amargo picado. Mexa at\\xc3\\xa9 que o chocolate derreta completamente. 3. Deixe a mistura esfriar. 4. Despeje a mistura em uma sorveteira e siga as instru\\xc3\\xa7\\xc3\\xb5es do fabricante. Se voc\\xc3\\xaa n\\xc3\\xa3o tiver uma sorveteira, coloque a mistura em um recipiente herm\\xc3\\xa9tico e leve ao freezer, mexendo a cada 30 minutos at\\xc3\\xa9 que o sorvete esteja firme. 5. Sirva o sorvete de chocolate.\",\"link_imagem\":\"https://static.vecteezy.com/system/resources/previews/000/764/869/non_2x/chocolate-and-vanilla-ice-cream-photo.jpg\",\"tipo\":\"doce\",\"created_at\":\"2023-12-31T01:55:19.649Z\",\"IngredientesBase\":[{\"id\":7,\"nomesIngrediente\":[\"creme de leite\",\"leite condensado\",\"cacau em p\\xc3\\xb3\",\"ess\\xc3\\xaancia de baunilha\",\"chocolate meio amargo\"],\"receita_id\":7,\"created_at\":\"2023-12-31T01:55:19.649Z\"}]},{\"id\":8,\"receita\":\"Frango \\xc3\\xa0 Parmegiana\",\"ingredientes\":\"4 fil\\xc3\\xa9s de peito de frango, sal e pimenta a gosto, 1 x\\xc3\\xadcara de farinha de trigo, 2 ovos batidos, 1 x\\xc3\\xadcara de farinha de rosca, 2 x\\xc3\\xadcaras de molho de tomate, 2 x\\xc3\\xadcaras de queijo mu\\xc3\\xa7arela ralado, \\xc3\\xb3leo para fritar\",\"modo_preparo\":\"1. Tempere os fil\\xc3\\xa9s de frango com sal e pimenta. 2. Passe cada fil\\xc3\\xa9 na farinha de trigo, nos ovos batidos e na farinha de rosca, nessa ordem. 3. Aque\\xc3\\xa7a o \\xc3\\xb3leo em uma frigideira e frite os fil\\xc3\\xa9s de frango at\\xc3\\xa9 que fiquem dourados e cozidos por completo. 4. Em um refrat\\xc3\\xa1rio, coloque um pouco de molho de tomate no fundo. 5. Disponha os fil\\xc3\\xa9s de frango fritos por cima. 6. Cubra os fil\\xc3\\xa9s com o restante do molho de tomate e o queijo mu\\xc3\\xa7arela ralado. 7. Leve ao forno preaquecido a 180\\xc2\\xb0C por cerca de 20 minutos ou at\\xc3\\xa9 que o queijo esteja derretido e borbulhante. 8. Sirva o frango \\xc3\\xa0 Parmegiana acompanhado de massa de sua escolha.\",\"link_imagem\":\"https://bigoven-res.cloudinary.com/image/upload/t_recipe-1280/fil-de-frango-parmegiana-bcd93f.jpg\",\"tipo\":\"salgado\",\"created_at\":\"2023-12-31T01:55:25.452Z\",\"IngredientesBase\":[{\"id\":8,\"nomesIngrediente\":[\"peito de frango\",\"farinha de trigo\",\"ovos\",\"farinha de rosca\",\"molho de tomate\",\"queijo mu\\xc3\\xa7arela\"],\"receita_id\":8,\"created_at\":\"2023-12-31T01:55:25.452Z\"}]},{\"id\":9,\"receita\":\"Torta de Ma\\xc3\\xa7\\xc3\\xa3\",\"ingredientes\":\"3 ma\\xc3\\xa7\\xc3\\xa3s descascadas e fatiadas, 1 colher de ch\\xc3\\xa1 de canela em p\\xc3\\xb3, 1/2 x\\xc3\\xadcara de a\\xc3\\xa7\\xc3\\xbacar, 1 x\\xc3\\xadcara de farinha de trigo, 1/2 x\\xc3\\xadcara de manteiga derretida, 1 x\\xc3\\xadcara de a\\xc3\\xa7\\xc3\\xbacar mascavo, 2 ovos, 1 colher de ch\\xc3\\xa1 de ess\\xc3\\xaancia de baunilha, 1 colher de ch\\xc3\\xa1 de fermento em p\\xc3\\xb3, 1/2 colher de ch\\xc3\\xa1 de sal\",\"modo_preparo\":\"1. Em uma tigela, misture as ma\\xc3\\xa7\\xc3\\xa3s fatiadas, a canela em p\\xc3\\xb3 e 1/2 x\\xc3\\xadcara de a\\xc3\\xa7\\xc3\\xbacar. Reserve. 2. Em outra tigela, misture a farinha de trigo, a manteiga derretida, o a\\xc3\\xa7\\xc3\\xbacar mascavo, os ovos, a ess\\xc3\\xaancia de baunilha, o fermento em p\\xc3\\xb3 e o sal at\\xc3\\xa9 obter uma massa homog\\xc3\\xaanea. 3. Em uma forma untada, coloque metade da massa. 4. Disponha a mistura de ma\\xc3\\xa7\\xc3\\xa3 por cima. 5. Cubra com o restante da massa. 6. Leve ao forno preaquecido a 180\\xc2\\xb0C por cerca de 40 minutos ou at\\xc3\\xa9 que a torta esteja dourada e firme. 7. Deixe esfriar antes de cortar e servir.\",\"link_imagem\":\"https://i.pinimg.com/736x/9a/e3/1b/9ae31b7959026c375c82e8bce99b56eb.jpg\",\"tipo\":\"doce\",\"created_at\":\"2023-12-31T01:55:30.467Z\",\"IngredientesBase\":[{\"id\":9,\"nomesIngrediente\":[\"ma\\xc3\\xa7\\xc3\\xa3s\",\"canela em p\\xc3\\xb3\",\"a\\xc3\\xa7\\xc3\\xbacar\",\"farinha de trigo\",\"manteiga\",\"a\\xc3\\xa7\\xc3\\xbacar mascavo\",\"ovos\",\"ess\\xc3\\xaancia de baunilha\",\"fermento em p\\xc3\\xb3\",\"sal\"],\"receita_id\":9,\"created_at\":\"2023-12-31T01:55:30.467Z\"}]},{\"id\":10,\"receita\":\"Arroz de Camar\\xc3\\xa3o\",\"ingredientes\":\"2 x\\xc3\\xadcaras de arroz, 400g de camar\\xc3\\xa3o, 1 cebola picada, 2 dentes de alho picados, 1 piment\\xc3\\xa3o vermelho picado, 1 piment\\xc3\\xa3o verde picado, 1 tomate picado, 1/2 x\\xc3\\xadcara de molho de tomate, 1 colher de sopa de azeite de oliva, sal e pimenta a gosto\",\"modo_preparo\":\"1. Tempere os camar\\xc3\\xb5es com sal, pimenta e alho picado. Reserve. 2. Em uma panela, aque\\xc3\\xa7a o azeite de oliva e refogue a cebola at\\xc3\\xa9 que fique dourada. 3. Adicione os camar\\xc3\\xb5es e cozinhe at\\xc3\\xa9 que fiquem rosados. Retire os camar\\xc3\\xb5es da panela e reserve. 4. Na mesma panela, adicione os piment\\xc3\\xb5es, o tomate e o molho de tomate. Cozinhe por alguns minutos. 5. Adicione o arroz e refogue por mais alguns minutos. 6. Volte os camar\\xc3\\xb5es para a panela e misture tudo. 7. Adicione \\xc3\\xa1gua suficiente para cozinhar o arroz, de acordo com as instru\\xc3\\xa7\\xc3\\xb5es da embalagem. 8. Cozinhe at\\xc3\\xa9 que o arroz esteja pronto. 9. Sirva o arroz de camar\\xc3\\xa3o quente.\",\"link_imagem\":\"https://i0.wp.com/howtocookportuguesestuff.com/wp-content/uploads/2023/04/arroz-de-camarao.jpg?fit=1454%2C1988&ssl=1\",\"tipo\":\"salgado\",\"created_at\":\"2023-12-31T01:55:36.128Z\",\"IngredientesBase\":[{\"id\":10,\"nomesIngrediente\":[\"arroz\",\"camar\\xc3\\xa3o\",\"cebola\",\"alho\",\"piment\\xc3\\xa3o vermelho\",\"piment\\xc3\\xa3o verde\",\"tomate\",\"molho de tomate\",\"azeite de oliva\"],\"receita_id\":10,\"created_at\":\"2023-12-31T01:55:36.128Z\"}]},{\"id\":11,\"receita\":\"Bolo de Chocolate\",\"ingredientes\":\"2 x\\xc3\\xadcaras de farinha de trigo, 1 x\\xc3\\xadcara de cacau em p\\xc3\\xb3, 1 1/2 colher de ch\\xc3\\xa1 de fermento em p\\xc3\\xb3, 1 1/2 colher de ch\\xc3\\xa1 de bicarbonato de s\\xc3\\xb3dio, 1/2 colher de ch\\xc3\\xa1 de sal, 2 x\\xc3\\xadcaras de a\\xc3\\xa7\\xc3\\xbacar, 3 ovos, 2 colheres de ch\\xc3\\xa1 de ess\\xc3\\xaancia de baunilha, 1 x\\xc3\\xadcara de buttermilk (ou 1 x\\xc3\\xadcara de leite com 1 colher de sopa de vinagre branco), 1 x\\xc3\\xadcara de caf\\xc3\\xa9 forte, 1/2 x\\xc3\\xadcara de \\xc3\\xb3leo vegetal\",\"modo_preparo\":\"1. Pr\\xc3\\xa9-aque\\xc3\\xa7a o forno a 180\\xc2\\xb0C e unte duas formas de bolo. 2. Em uma tigela grande, peneire a farinha de trigo, o cacau em p\\xc3\\xb3, o fermento, o bicarbonato e o sal. 3. Em outra tigela, bata o a\\xc3\\xa7\\xc3\\xbacar, os ovos e a ess\\xc3\\xaancia de baunilha at\\xc3\\xa9 obter uma mistura cremosa. 4. Adicione o buttermilk, o caf\\xc3\\xa9 forte e o \\xc3\\xb3leo \\xc3\\xa0 mistura de ovos e a\\xc3\\xa7\\xc3\\xbacar. 5. Misture os ingredientes l\\xc3\\xadquidos com os ingredientes secos at\\xc3\\xa9 obter uma massa homog\\xc3\\xaanea. 6. Divida a massa entre as duas formas de bolo e leve ao forno por 25-30 minutos, ou at\\xc3\\xa9 que um palito inserido no centro saia limpo. 7. Deixe os bolos esfriarem antes de desenformar e decorar a gosto.\",\"link_imagem\":\"https://i.ytimg.com/vi/qnZ360evVME/maxresdefault.jpg\",\"tipo\":\"doce\",\"created_at\":\"2023-12-31T01:55:42.140Z\",\"IngredientesBase\":[{\"id\":11,\"nomesIngrediente\":[\"farinha de trigo\",\"cacau em p\\xc3\\xb3\",\"fermento em p\\xc3\\xb3\",\"bicarbonato de s\\xc3\\xb3dio\",\"sal\",\"a\\xc3\\xa7\\xc3\\xbacar\",\"ovos\",\"ess\\xc3\\xaancia de baunilha\",\"buttermilk\",\"caf\\xc3\\xa9 forte\",\"\\xc3\\xb3leo vegetal\"],\"receita_id\":11,\"created_at\":\"2023-12-31T01:55:42.140Z\"}]},{\"id\":12,\"receita\":\"Risoto de Cogumelos\",\"ingredientes\":\"1 x\\xc3\\xadcara de arroz arb\\xc3\\xb3reo, 200g de cogumelos (shitake, shimeji, champignon), 1 cebola picada, 2 dentes de alho picados, 1/2 x\\xc3\\xadcara de vinho branco seco, 4 x\\xc3\\xadcaras de caldo de legumes, 2 colheres de sopa de manteiga, 1/2 x\\xc3\\xadcara de queijo parmes\\xc3\\xa3o ralado, sal e pimenta a gosto\",\"modo_preparo\":\"1. Em uma panela, aque\\xc3\\xa7a o caldo de legumes e mantenha-o quente em fogo baixo. 2. Em outra panela, derreta a manteiga e refogue a cebola e o alho at\\xc3\\xa9 ficarem transparentes. 3. Adicione os cogumelos e refogue at\\xc3\\xa9 que estejam dourados. 4. Acrescente o arroz arb\\xc3\\xb3reo e mexa por alguns minutos. 5. Despeje o vinho branco na panela e mexa at\\xc3\\xa9 que seja absorvido pelo arroz. 6. Comece a adicionar o caldo de legumes, uma concha por vez, mexendo constantemente e esperando que o l\\xc3\\xadquido seja absorvido antes de adicionar mais. Repita esse processo at\\xc3\\xa9 que o arroz esteja cozido e cremoso. 7. Tempere com sal e pimenta a gosto. 8. Retire do fogo, adicione o queijo parmes\\xc3\\xa3o ralado e mexa bem. 9. Sirva o risoto de cogumelos quente.\",\"link_imagem\":\"http://3.bp.blogspot.com/-0HLjHwcUtGo/URxMxFvcxDI/AAAAAAAAICM/utNw4gu8Swo/s1600/Mushroom-Bacon+risotto.jpg\",\"tipo\":\"salgado\",\"created_at\":\"2023-12-31T01:55:47.736Z\",\"IngredientesBase\":[{\"id\":12,\"nomesIngrediente\":[\"arroz arb\\xc3\\xb3reo\",\"cogumelos\",\"cebola\",\"alho\",\"vinho branco seco\",\"caldo de legumes\",\"manteiga\",\"queijo parmes\\xc3\\xa3o\"],\"receita_id\":12,\"created_at\":\"2023-12-31T01:55:47.736Z\"}]},{\"id\":13,\"receita\":\"Mousse de Maracuj\\xc3\\xa1\",\"ingredientes\":\"1 lata de leite condensado, 1 lata de creme de leite, suco de 3 maracuj\\xc3\\xa1s, 1/2 x\\xc3\\xadcara de a\\xc3\\xa7\\xc3\\xbacar, sementes de maracuj\\xc3\\xa1 para decorar\",\"modo_preparo\":\"1. Em uma tigela, misture o leite condensado e o creme de leite. 2. Adicione o suco de maracuj\\xc3\\xa1 e o a\\xc3\\xa7\\xc3\\xbacar. Misture bem at\\xc3\\xa9 obter um creme homog\\xc3\\xaaneo. 3. Despeje a mousse em ta\\xc3\\xa7as individuais. 4. Leve \\xc3\\xa0 geladeira por pelo menos 2 horas. 5. Antes de servir, decore com sementes de maracuj\\xc3\\xa1.\",\"link_imagem\":\"https://www.easyanddelish.com/wp-content/uploads/2020/07/passion-fruit-mousse-recipe-2-como-fazer-mousse-de-maracuja-2.jpg\",\"tipo\":\"doce\",\"created_at\":\"2023-12-31T01:56:22.111Z\",\"IngredientesBase\":[{\"id\":13,\"nomesIngrediente\":[\"leite condensado\",\"creme de leite\",\"maracuj\\xc3\\xa1\",\"a\\xc3\\xa7\\xc3\\xbacar\"],\"receita_id\":13,\"created_at\":\"2023-12-31T01:56:22.111Z\"}]},{\"id\":14,\"receita\":\"Sopa de Ab\\xc3\\xb3bora\",\"ingredientes\":\"1 ab\\xc3\\xb3bora, 1 cebola picada, 2 dentes de alho picados, 1 batata, 1 cenoura, 4 x\\xc3\\xadcaras de caldo de legumes, 1 colher de sopa de azeite de oliva, sal e pimenta a gosto\",\"modo_preparo\":\"1. Descasque e corte a ab\\xc3\\xb3bora, a batata e a cenoura em peda\\xc3\\xa7os. 2. Em uma panela, aque\\xc3\\xa7a o azeite de oliva e refogue a cebola e o alho at\\xc3\\xa9 ficarem dourados. 3. Adicione a ab\\xc3\\xb3bora, a batata e a cenoura \\xc3\\xa0 panela e refogue por alguns minutos. 4. Despeje o caldo de legumes na panela e leve a sopa para ferver. 5. Reduza o fogo e cozinhe at\\xc3\\xa9 que os legumes estejam macios. 6. Use um liquidificador de m\\xc3\\xa3o ou um liquidificador convencional para triturar a sopa at\\xc3\\xa9 obter uma consist\\xc3\\xaancia cremosa. 7. Tempere com sal e pimenta a gosto. 8. Sirva a sopa de ab\\xc3\\xb3bora quente.\",\"link_imagem\":\"https://newengland.com/wp-content/uploads/David-Leite-Food-Feature-3-Pumpkin-Soup.jpg\",\"tipo\":\"salgado\",\"created_at\":\"2023-12-31T01:56:32.288Z\",\"IngredientesBase\":[{\"id\":14,\"nomesIngrediente\":[\"ab\\xc3\\xb3bora\",\"cebola\",\"alho\",\"batata\",\"cenoura\",\"caldo de legumes\",\"azeite de oliva\"],\"receita_id\":14,\"created_at\":\"2023-12-31T01:56:32.288Z\"}]},{\"id\":15,\"receita\":\"Panquecas Americanas\",\"ingredientes\":\"1 x\\xc3\\xadcara de farinha de trigo, 2 colheres de a\\xc3\\xa7\\xc3\\xbacar, 1 colher de ch\\xc3\\xa1 de fermento em p\\xc3\\xb3, 1/2 colher de ch\\xc3\\xa1 de bicarbonato de s\\xc3\\xb3dio, 1 pitada de sal, 1 ovo, 1 x\\xc3\\xadcara de leite, 2 colheres de sopa de manteiga derretida, \\xc3\\xb3leo para untar a frigideira\",\"modo_preparo\":\"1. Em uma tigela, misture a farinha de trigo, o a\\xc3\\xa7\\xc3\\xbacar, o fermento, o bicarbonato de s\\xc3\\xb3dio e o sal. 2. Em outra tigela, bata o ovo e adicione o leite e a manteiga derretida. 3. Despeje a mistura l\\xc3\\xadquida na mistura de ingredientes secos e mexa at\\xc3\\xa9 obter uma massa homog\\xc3\\xaanea. 4. Aque\\xc3\\xa7a uma frigideira antiaderente e unte com um pouco de \\xc3\\xb3leo. 5. Coloque conchas de massa na frigideira e cozinhe at\\xc3\\xa9 que bolhas se formem na superf\\xc3\\xadcie. 6. Vire as panquecas e cozinhe do outro lado at\\xc3\\xa9 dourarem. 7. Sirva as panquecas americanas com o acompanhamento de sua prefer\\xc3\\xaancia.\",\"link_imagem\":\"https://static.itdg.com.br/images/360-240/7ce273e5b1841e3cf6986d2cd8aee673/283895-original.jpg\",\"tipo\":\"doce\",\"created_at\":\"2023-12-31T01:56:37.812Z\",\"IngredientesBase\":[{\"id\":15,\"nomesIngrediente\":[\"farinha de trigo\",\"a\\xc3\\xa7\\xc3\\xbacar\",\"fermento em p\\xc3\\xb3\",\"bicarbonato de s\\xc3\\xb3dio\",\"sal\",\"ovo\",\"leite\",\"manteiga\"],\"receita_id\":15,\"created_at\":\"2023-12-31T01:56:37.812Z\"}]},{\"id\":16,\"receita\":\"Ratatouille\",\"ingredientes\":\"1 berinjela, 1 abobrinha, 1 piment\\xc3\\xa3o vermelho, 1 piment\\xc3\\xa3o amarelo, 1 cebola, 2 dentes de alho, 3 tomates maduros, azeite de oliva, sal, pimenta, alecrim e tomilho a gosto\",\"modo_preparo\":\"1. Corte a berinjela, a abobrinha, os piment\\xc3\\xb5es, a cebola e os tomates em rodelas finas. 2. Em uma assadeira, intercale as rodelas de legumes, criando camadas. 3. Regue com azeite de oliva, tempere com sal, pimenta, alecrim e tomilho a gosto. 4. Leve a assadeira ao forno preaquecido a 180\\xc2\\xb0C e asse por cerca de 45 minutos, ou at\\xc3\\xa9 que os legumes estejam macios e levemente dourados. 5. Sirva o ratatouille quente.\",\"link_imagem\":\"https://img.buzzfeed.com/video-api-prod/assets/eb44570519264864814264f7f0a5e47a/BFV13909_BakedRatatouille-ThumbTextless1080.jpg?resize=1200:*\",\"tipo\":\"salgado\",\"created_at\":\"2023-12-31T01:56:43.598Z\",\"IngredientesBase\":[{\"id\":16,\"nomesIngrediente\":[\"berinjela\",\"abobrinha\",\"piment\\xc3\\xa3o vermelho\",\"piment\\xc3\\xa3o amarelo\",\"cebola\",\"alho\",\"tomates\",\"azeite de oliva\",\"sal\",\"pimenta\",\"alecrim\",\"tomilho\"],\"receita_id\":16,\"created_at\":\"2023-12-31T01:56:43.598Z\"}]},{\"id\":17,\"receita\":\"Ratatouille\",\"ingredientes\":\"1 berinjela, 1 abobrinha, 1 piment\\xc3\\xa3o vermelho, 1 piment\\xc3\\xa3o amarelo, 1 cebola, 2 dentes de alho, 3 tomates maduros, azeite de oliva, sal, pimenta, alecrim e tomilho a gosto\",\"modo_preparo\":\"Corte a berinjela, a abobrinha, os piment\\xc3\\xb5es, a cebola e os tomates em rodelas finas. Em uma assadeira, intercale as rodelas de legumes, criando camadas. Regue com azeite de oliva, tempere com sal, pimenta, alecrim e tomilho a gosto. Leve a assadeira ao forno preaquecido a 180\\xc2\\xb0C e asse por cerca de 45 minutos, ou at\\xc3\\xa9 que os legumes estejam macios e levemente dourados. Sirva o ratatouille quente.\",\"link_imagem\":\"https://media.chefdehome.com/740/0/0/ratatouille/ratatouille-casserole.jpg\",\"tipo\":\"salgado\",\"created_at\":\"2023-12-31T15:36:42.150Z\",\"IngredientesBase\":[{\"id\":17,\"nomesIngrediente\":[\"berinjela\",\"abobrinha\",\"piment\\xc3\\xa3o vermelho\",\"piment\\xc3\\xa3o amarelo\",\"cebola\",\"alho\",\"tomates\",\"azeite de oliva\",\"sal\",\"pimenta\",\"alecrim\",\"tomilho\"],\"receita_id\":17,\"created_at\":\"2023-12-31T15:36:42.150Z\"}]}]'"
            ]
          },
          "execution_count": 3,
          "metadata": {},
          "output_type": "execute_result"
        }
      ],
      "source": [
        "#conteúdo da página\n",
        "page.content"
      ]
    },
    {
      "cell_type": "markdown",
      "id": "xmw6Vigg5z51",
      "metadata": {
        "id": "xmw6Vigg5z51"
      },
      "source": [
        "Não está muito organizado, vamos melhorar isso usando a biblioteca `BeautifulSoup`\n",
        "\n",
        "Para instalar use:\n",
        "\n",
        "```bash\n",
        "pip install beautifulsoup4\n",
        "```"
      ]
    },
    {
      "cell_type": "code",
      "execution_count": 15,
      "id": "6e8073d8",
      "metadata": {
        "id": "6e8073d8"
      },
      "outputs": [],
      "source": [
        "from bs4 import BeautifulSoup\n",
        "\n",
        "# O objeto soup contem toda a pagina\n",
        "soup = BeautifulSoup(page.content, 'html.parser')"
      ]
    },
    {
      "cell_type": "code",
      "execution_count": 16,
      "id": "b72d629b",
      "metadata": {
        "colab": {
          "base_uri": "https://localhost:8080/"
        },
        "id": "b72d629b",
        "outputId": "607b4a27-5ef2-43b3-c946-af3957026561"
      },
      "outputs": [
        {
          "name": "stdout",
          "output_type": "stream",
          "text": [
            "[{\"id\":1,\"receita\":\"Macarrão à Carbonara\",\"ingredientes\":\"200g de espaguete, 100g de pancetta ou bacon, 2 ovos, 1 xícara de queijo parmesão ralado, 2 dentes de alho, sal e pimenta a gosto\",\"modo_preparo\":\"1. Cozinhe o espaguete al dente de acordo com as instruções da embalagem. 2. Enquanto isso, frite a pancetta ou bacon em uma frigideira até que fique crocante. 3. Em uma tigela, bata os ovos e adicione o queijo parmesão ralado. 4. Quando o espaguete estiver pronto, escorra e reserve um pouco da água do cozimento. 5. Misture o espaguete cozido, a pancetta frita e o alho picado na frigideira. 6. Retire do fogo e adicione a mistura de ovos e queijo, mexendo rapidamente para não coagular. Se necessário, adicione um pouco da água do cozimento para obter a consistência desejada. 7. Tempere com sal e pimenta a gosto. Sirva imediatamente.\",\"link_imagem\":\"https://i.ytimg.com/vi/rY4mz5TLtz4/maxresdefault.jpg\",\"tipo\":\"salgado\",\"created_at\":\"2023-12-31T01:54:02.909Z\",\"IngredientesBase\":[{\"id\":1,\"nomesIngrediente\":[\"espaguete\",\"pancetta\",\"ovos\",\"queijo parmesão\",\"alho\"],\"receita_id\":1,\"created_at\":\"2023-12-31T01:54:02.909Z\"}]},{\"id\":2,\"receita\":\"Bolo de Cenoura\",\"ingredientes\":\"3 cenouras médias, 3 ovos, 1 xícara de óleo, 2 xícaras de farinha de trigo, 2 xícaras de açúcar, 1 colher de sopa de fermento em pó\",\"modo_preparo\":\"1. Descasque e corte as cenouras em pedaços. 2. No liquidificador, bata as cenouras, os ovos e o óleo até obter uma mistura homogênea. 3. Em uma tigela, adicione a farinha de trigo, o açúcar e o fermento. Misture bem. 4. Acrescente a mistura líquida do liquidificador à tigela e mexa até incorporar todos os ingredientes. 5. Despeje a massa em uma forma untada e leve ao forno preaquecido a 180°C por aproximadamente 40 minutos ou até dourar. 6. Retire do forno, deixe esfriar e desenforme.\",\"link_imagem\":\"https://i.ytimg.com/vi/bBqEpmMuMhk/maxresdefault.jpg\",\"tipo\":\"doce\",\"created_at\":\"2023-12-31T01:54:46.940Z\",\"IngredientesBase\":[{\"id\":2,\"nomesIngrediente\":[\"cenoura\",\"ovos\"],\"receita_id\":2,\"created_at\":\"2023-12-31T01:54:46.940Z\"}]},{\"id\":3,\"receita\":\"Salada Caesar\",\"ingredientes\":\"2 peitos de frango, alface romana, croutons, queijo parmesão ralado, molho Caesar (molho de anchova, azeite de oliva, maionese, suco de limão, mostarda Dijon, alho, sal e pimenta)\",\"modo_preparo\":\"1. Tempere os peitos de frango com sal e pimenta e grelhe até que estejam cozidos por completo. Corte em tiras. 2. Lave e rasgue as folhas de alface romana. 3. Prepare o molho Caesar misturando molho de anchova, azeite de oliva, maionese, suco de limão, mostarda Dijon e alho. 4. Em uma tigela grande, misture a alface, os croutons e o queijo parmesão ralado. 5. Adicione as tiras de frango grelhado por cima. 6. Regue a salada com o molho Caesar e sirva.\",\"link_imagem\":\"https://s23209.pcdn.co/wp-content/uploads/2023/01/220905_DD_Chx-Caesar-Salad_051.jpg\",\"tipo\":\"salgado\",\"created_at\":\"2023-12-31T01:54:56.010Z\",\"IngredientesBase\":[{\"id\":3,\"nomesIngrediente\":[\"frango\",\"alface romana\",\"croutons\",\"queijo parmesão\",\"molho Caesar\"],\"receita_id\":3,\"created_at\":\"2023-12-31T01:54:56.010Z\"}]},{\"id\":4,\"receita\":\"Pudim de Leite Condensado\",\"ingredientes\":\"1 lata de leite condensado, 2 latas de leite (use a lata de leite condensado vazia para medir), 3 ovos, açúcar para caramelizar a forma\",\"modo_preparo\":\"1. Comece preparando a calda de caramelo: em uma panela, derreta açúcar até obter um caramelo dourado. Despeje o caramelo em uma forma de pudim e espalhe bem, cobrindo todo o fundo da forma. 2. No liquidificador, bata o leite condensado, o leite e os ovos até obter uma mistura homogênea. 3. Despeje essa mistura na forma caramelizada. 4. Cubra a forma com papel-alumínio e leve ao forno preaquecido a 180°C em banho-maria por aproximadamente 1 hora ou até que o pudim esteja firme. 5. Deixe esfriar, desenforme e sirva.\",\"link_imagem\":\"https://braziliankitchenabroad.com/wp-content/uploads/2020/09/pudim-brazilian-flan-20-500x500.jpg\",\"tipo\":\"doce\",\"created_at\":\"2023-12-31T01:55:03.627Z\",\"IngredientesBase\":[{\"id\":4,\"nomesIngrediente\":[\"leite condensado\",\"leite\",\"ovos\",\"açúcar\"],\"receita_id\":4,\"created_at\":\"2023-12-31T01:55:03.627Z\"}]},{\"id\":5,\"receita\":\"Salmão Grelhado com Molho de Limão\",\"ingredientes\":\"4 filés de salmão, suco de 2 limões, 2 colheres de sopa de azeite de oliva, 2 dentes de alho picados, sal e pimenta a gosto\",\"modo_preparo\":\"1. Tempere os filés de salmão com sal, pimenta, suco de limão e alho picado. Deixe marinar por 30 minutos. 2. Aqueça o azeite de oliva em uma frigideira e grelhe os filés de salmão por cerca de 4 minutos de cada lado ou até que estejam cozidos. 3. Sirva os filés de salmão com o molho de limão por cima.\",\"link_imagem\":\"https://www.mococa.com.br/wp-content/uploads/2022/03/Salmao-grelhao-ao-molho-de-limao.jpeg\",\"tipo\":\"salgado\",\"created_at\":\"2023-12-31T01:55:09.486Z\",\"IngredientesBase\":[{\"id\":5,\"nomesIngrediente\":[\"salmão\",\"limão\",\"azeite de oliva\",\"alho\"],\"receita_id\":5,\"created_at\":\"2023-12-31T01:55:09.486Z\"}]},{\"id\":6,\"receita\":\"Pão de Queijo\",\"ingredientes\":\"250g de polvilho doce, 100ml de leite, 100ml de água, 80ml de óleo, 1 ovo, 100g de queijo parmesão ralado, sal a gosto\",\"modo_preparo\":\"1. Em uma panela, aqueça o leite, a água e o óleo até ferver. 2. Despeje essa mistura sobre o polvilho doce e mexa até formar uma massa. 3. Deixe a massa esfriar um pouco e adicione o ovo, o queijo parmesão ralado e sal a gosto. 4. Amasse bem até que a massa esteja homogênea. 5. Modele bolinhas com a massa e coloque em uma assadeira untada. 6. Leve ao forno preaquecido a 180°C por aproximadamente 20 minutos ou até que os pães de queijo estejam dourados.\",\"link_imagem\":\"https://www.allrecipes.com/thmb/t1_kc78zVgR-59-2lpPrSEXAWuE=/1500x0/filters:no_upscale():max_bytes(150000):strip_icc()/8796530-brazilian-cheese-bread-pao-de-queijo-Faith-Ang-4x3-1-2000-a00a691330fd450683950ec993b9a791.jpg\",\"tipo\":\"salgado\",\"created_at\":\"2023-12-31T01:55:14.753Z\",\"IngredientesBase\":[{\"id\":6,\"nomesIngrediente\":[\"polvilho doce\",\"leite\",\"água\",\"óleo\",\"ovo\",\"queijo parmesão\"],\"receita_id\":6,\"created_at\":\"2023-12-31T01:55:14.753Z\"}]},{\"id\":7,\"receita\":\"Sorvete de Chocolate\",\"ingredientes\":\"2 xícaras de creme de leite, 1 xícara de leite condensado, 1/2 xícara de cacau em pó, 1 colher de chá de essência de baunilha, 100g de chocolate meio amargo picado\",\"modo_preparo\":\"1. Em uma panela, aqueça o creme de leite, o leite condensado, o cacau em pó e a essência de baunilha até que fique homogêneo e quente. 2. Retire do fogo e adicione o chocolate meio amargo picado. Mexa até que o chocolate derreta completamente. 3. Deixe a mistura esfriar. 4. Despeje a mistura em uma sorveteira e siga as instruções do fabricante. Se você não tiver uma sorveteira, coloque a mistura em um recipiente hermético e leve ao freezer, mexendo a cada 30 minutos até que o sorvete esteja firme. 5. Sirva o sorvete de chocolate.\",\"link_imagem\":\"https://static.vecteezy.com/system/resources/previews/000/764/869/non_2x/chocolate-and-vanilla-ice-cream-photo.jpg\",\"tipo\":\"doce\",\"created_at\":\"2023-12-31T01:55:19.649Z\",\"IngredientesBase\":[{\"id\":7,\"nomesIngrediente\":[\"creme de leite\",\"leite condensado\",\"cacau em pó\",\"essência de baunilha\",\"chocolate meio amargo\"],\"receita_id\":7,\"created_at\":\"2023-12-31T01:55:19.649Z\"}]},{\"id\":8,\"receita\":\"Frango à Parmegiana\",\"ingredientes\":\"4 filés de peito de frango, sal e pimenta a gosto, 1 xícara de farinha de trigo, 2 ovos batidos, 1 xícara de farinha de rosca, 2 xícaras de molho de tomate, 2 xícaras de queijo muçarela ralado, óleo para fritar\",\"modo_preparo\":\"1. Tempere os filés de frango com sal e pimenta. 2. Passe cada filé na farinha de trigo, nos ovos batidos e na farinha de rosca, nessa ordem. 3. Aqueça o óleo em uma frigideira e frite os filés de frango até que fiquem dourados e cozidos por completo. 4. Em um refratário, coloque um pouco de molho de tomate no fundo. 5. Disponha os filés de frango fritos por cima. 6. Cubra os filés com o restante do molho de tomate e o queijo muçarela ralado. 7. Leve ao forno preaquecido a 180°C por cerca de 20 minutos ou até que o queijo esteja derretido e borbulhante. 8. Sirva o frango à Parmegiana acompanhado de massa de sua escolha.\",\"link_imagem\":\"https://bigoven-res.cloudinary.com/image/upload/t_recipe-1280/fil-de-frango-parmegiana-bcd93f.jpg\",\"tipo\":\"salgado\",\"created_at\":\"2023-12-31T01:55:25.452Z\",\"IngredientesBase\":[{\"id\":8,\"nomesIngrediente\":[\"peito de frango\",\"farinha de trigo\",\"ovos\",\"farinha de rosca\",\"molho de tomate\",\"queijo muçarela\"],\"receita_id\":8,\"created_at\":\"2023-12-31T01:55:25.452Z\"}]},{\"id\":9,\"receita\":\"Torta de Maçã\",\"ingredientes\":\"3 maçãs descascadas e fatiadas, 1 colher de chá de canela em pó, 1/2 xícara de açúcar, 1 xícara de farinha de trigo, 1/2 xícara de manteiga derretida, 1 xícara de açúcar mascavo, 2 ovos, 1 colher de chá de essência de baunilha, 1 colher de chá de fermento em pó, 1/2 colher de chá de sal\",\"modo_preparo\":\"1. Em uma tigela, misture as maçãs fatiadas, a canela em pó e 1/2 xícara de açúcar. Reserve. 2. Em outra tigela, misture a farinha de trigo, a manteiga derretida, o açúcar mascavo, os ovos, a essência de baunilha, o fermento em pó e o sal até obter uma massa homogênea. 3. Em uma forma untada, coloque metade da massa. 4. Disponha a mistura de maçã por cima. 5. Cubra com o restante da massa. 6. Leve ao forno preaquecido a 180°C por cerca de 40 minutos ou até que a torta esteja dourada e firme. 7. Deixe esfriar antes de cortar e servir.\",\"link_imagem\":\"https://i.pinimg.com/736x/9a/e3/1b/9ae31b7959026c375c82e8bce99b56eb.jpg\",\"tipo\":\"doce\",\"created_at\":\"2023-12-31T01:55:30.467Z\",\"IngredientesBase\":[{\"id\":9,\"nomesIngrediente\":[\"maçãs\",\"canela em pó\",\"açúcar\",\"farinha de trigo\",\"manteiga\",\"açúcar mascavo\",\"ovos\",\"essência de baunilha\",\"fermento em pó\",\"sal\"],\"receita_id\":9,\"created_at\":\"2023-12-31T01:55:30.467Z\"}]},{\"id\":10,\"receita\":\"Arroz de Camarão\",\"ingredientes\":\"2 xícaras de arroz, 400g de camarão, 1 cebola picada, 2 dentes de alho picados, 1 pimentão vermelho picado, 1 pimentão verde picado, 1 tomate picado, 1/2 xícara de molho de tomate, 1 colher de sopa de azeite de oliva, sal e pimenta a gosto\",\"modo_preparo\":\"1. Tempere os camarões com sal, pimenta e alho picado. Reserve. 2. Em uma panela, aqueça o azeite de oliva e refogue a cebola até que fique dourada. 3. Adicione os camarões e cozinhe até que fiquem rosados. Retire os camarões da panela e reserve. 4. Na mesma panela, adicione os pimentões, o tomate e o molho de tomate. Cozinhe por alguns minutos. 5. Adicione o arroz e refogue por mais alguns minutos. 6. Volte os camarões para a panela e misture tudo. 7. Adicione água suficiente para cozinhar o arroz, de acordo com as instruções da embalagem. 8. Cozinhe até que o arroz esteja pronto. 9. Sirva o arroz de camarão quente.\",\"link_imagem\":\"https://i0.wp.com/howtocookportuguesestuff.com/wp-content/uploads/2023/04/arroz-de-camarao.jpg?fit=1454%2C1988&amp;ssl=1\",\"tipo\":\"salgado\",\"created_at\":\"2023-12-31T01:55:36.128Z\",\"IngredientesBase\":[{\"id\":10,\"nomesIngrediente\":[\"arroz\",\"camarão\",\"cebola\",\"alho\",\"pimentão vermelho\",\"pimentão verde\",\"tomate\",\"molho de tomate\",\"azeite de oliva\"],\"receita_id\":10,\"created_at\":\"2023-12-31T01:55:36.128Z\"}]},{\"id\":11,\"receita\":\"Bolo de Chocolate\",\"ingredientes\":\"2 xícaras de farinha de trigo, 1 xícara de cacau em pó, 1 1/2 colher de chá de fermento em pó, 1 1/2 colher de chá de bicarbonato de sódio, 1/2 colher de chá de sal, 2 xícaras de açúcar, 3 ovos, 2 colheres de chá de essência de baunilha, 1 xícara de buttermilk (ou 1 xícara de leite com 1 colher de sopa de vinagre branco), 1 xícara de café forte, 1/2 xícara de óleo vegetal\",\"modo_preparo\":\"1. Pré-aqueça o forno a 180°C e unte duas formas de bolo. 2. Em uma tigela grande, peneire a farinha de trigo, o cacau em pó, o fermento, o bicarbonato e o sal. 3. Em outra tigela, bata o açúcar, os ovos e a essência de baunilha até obter uma mistura cremosa. 4. Adicione o buttermilk, o café forte e o óleo à mistura de ovos e açúcar. 5. Misture os ingredientes líquidos com os ingredientes secos até obter uma massa homogênea. 6. Divida a massa entre as duas formas de bolo e leve ao forno por 25-30 minutos, ou até que um palito inserido no centro saia limpo. 7. Deixe os bolos esfriarem antes de desenformar e decorar a gosto.\",\"link_imagem\":\"https://i.ytimg.com/vi/qnZ360evVME/maxresdefault.jpg\",\"tipo\":\"doce\",\"created_at\":\"2023-12-31T01:55:42.140Z\",\"IngredientesBase\":[{\"id\":11,\"nomesIngrediente\":[\"farinha de trigo\",\"cacau em pó\",\"fermento em pó\",\"bicarbonato de sódio\",\"sal\",\"açúcar\",\"ovos\",\"essência de baunilha\",\"buttermilk\",\"café forte\",\"óleo vegetal\"],\"receita_id\":11,\"created_at\":\"2023-12-31T01:55:42.140Z\"}]},{\"id\":12,\"receita\":\"Risoto de Cogumelos\",\"ingredientes\":\"1 xícara de arroz arbóreo, 200g de cogumelos (shitake, shimeji, champignon), 1 cebola picada, 2 dentes de alho picados, 1/2 xícara de vinho branco seco, 4 xícaras de caldo de legumes, 2 colheres de sopa de manteiga, 1/2 xícara de queijo parmesão ralado, sal e pimenta a gosto\",\"modo_preparo\":\"1. Em uma panela, aqueça o caldo de legumes e mantenha-o quente em fogo baixo. 2. Em outra panela, derreta a manteiga e refogue a cebola e o alho até ficarem transparentes. 3. Adicione os cogumelos e refogue até que estejam dourados. 4. Acrescente o arroz arbóreo e mexa por alguns minutos. 5. Despeje o vinho branco na panela e mexa até que seja absorvido pelo arroz. 6. Comece a adicionar o caldo de legumes, uma concha por vez, mexendo constantemente e esperando que o líquido seja absorvido antes de adicionar mais. Repita esse processo até que o arroz esteja cozido e cremoso. 7. Tempere com sal e pimenta a gosto. 8. Retire do fogo, adicione o queijo parmesão ralado e mexa bem. 9. Sirva o risoto de cogumelos quente.\",\"link_imagem\":\"http://3.bp.blogspot.com/-0HLjHwcUtGo/URxMxFvcxDI/AAAAAAAAICM/utNw4gu8Swo/s1600/Mushroom-Bacon+risotto.jpg\",\"tipo\":\"salgado\",\"created_at\":\"2023-12-31T01:55:47.736Z\",\"IngredientesBase\":[{\"id\":12,\"nomesIngrediente\":[\"arroz arbóreo\",\"cogumelos\",\"cebola\",\"alho\",\"vinho branco seco\",\"caldo de legumes\",\"manteiga\",\"queijo parmesão\"],\"receita_id\":12,\"created_at\":\"2023-12-31T01:55:47.736Z\"}]},{\"id\":13,\"receita\":\"Mousse de Maracujá\",\"ingredientes\":\"1 lata de leite condensado, 1 lata de creme de leite, suco de 3 maracujás, 1/2 xícara de açúcar, sementes de maracujá para decorar\",\"modo_preparo\":\"1. Em uma tigela, misture o leite condensado e o creme de leite. 2. Adicione o suco de maracujá e o açúcar. Misture bem até obter um creme homogêneo. 3. Despeje a mousse em taças individuais. 4. Leve à geladeira por pelo menos 2 horas. 5. Antes de servir, decore com sementes de maracujá.\",\"link_imagem\":\"https://www.easyanddelish.com/wp-content/uploads/2020/07/passion-fruit-mousse-recipe-2-como-fazer-mousse-de-maracuja-2.jpg\",\"tipo\":\"doce\",\"created_at\":\"2023-12-31T01:56:22.111Z\",\"IngredientesBase\":[{\"id\":13,\"nomesIngrediente\":[\"leite condensado\",\"creme de leite\",\"maracujá\",\"açúcar\"],\"receita_id\":13,\"created_at\":\"2023-12-31T01:56:22.111Z\"}]},{\"id\":14,\"receita\":\"Sopa de Abóbora\",\"ingredientes\":\"1 abóbora, 1 cebola picada, 2 dentes de alho picados, 1 batata, 1 cenoura, 4 xícaras de caldo de legumes, 1 colher de sopa de azeite de oliva, sal e pimenta a gosto\",\"modo_preparo\":\"1. Descasque e corte a abóbora, a batata e a cenoura em pedaços. 2. Em uma panela, aqueça o azeite de oliva e refogue a cebola e o alho até ficarem dourados. 3. Adicione a abóbora, a batata e a cenoura à panela e refogue por alguns minutos. 4. Despeje o caldo de legumes na panela e leve a sopa para ferver. 5. Reduza o fogo e cozinhe até que os legumes estejam macios. 6. Use um liquidificador de mão ou um liquidificador convencional para triturar a sopa até obter uma consistência cremosa. 7. Tempere com sal e pimenta a gosto. 8. Sirva a sopa de abóbora quente.\",\"link_imagem\":\"https://newengland.com/wp-content/uploads/David-Leite-Food-Feature-3-Pumpkin-Soup.jpg\",\"tipo\":\"salgado\",\"created_at\":\"2023-12-31T01:56:32.288Z\",\"IngredientesBase\":[{\"id\":14,\"nomesIngrediente\":[\"abóbora\",\"cebola\",\"alho\",\"batata\",\"cenoura\",\"caldo de legumes\",\"azeite de oliva\"],\"receita_id\":14,\"created_at\":\"2023-12-31T01:56:32.288Z\"}]},{\"id\":15,\"receita\":\"Panquecas Americanas\",\"ingredientes\":\"1 xícara de farinha de trigo, 2 colheres de açúcar, 1 colher de chá de fermento em pó, 1/2 colher de chá de bicarbonato de sódio, 1 pitada de sal, 1 ovo, 1 xícara de leite, 2 colheres de sopa de manteiga derretida, óleo para untar a frigideira\",\"modo_preparo\":\"1. Em uma tigela, misture a farinha de trigo, o açúcar, o fermento, o bicarbonato de sódio e o sal. 2. Em outra tigela, bata o ovo e adicione o leite e a manteiga derretida. 3. Despeje a mistura líquida na mistura de ingredientes secos e mexa até obter uma massa homogênea. 4. Aqueça uma frigideira antiaderente e unte com um pouco de óleo. 5. Coloque conchas de massa na frigideira e cozinhe até que bolhas se formem na superfície. 6. Vire as panquecas e cozinhe do outro lado até dourarem. 7. Sirva as panquecas americanas com o acompanhamento de sua preferência.\",\"link_imagem\":\"https://static.itdg.com.br/images/360-240/7ce273e5b1841e3cf6986d2cd8aee673/283895-original.jpg\",\"tipo\":\"doce\",\"created_at\":\"2023-12-31T01:56:37.812Z\",\"IngredientesBase\":[{\"id\":15,\"nomesIngrediente\":[\"farinha de trigo\",\"açúcar\",\"fermento em pó\",\"bicarbonato de sódio\",\"sal\",\"ovo\",\"leite\",\"manteiga\"],\"receita_id\":15,\"created_at\":\"2023-12-31T01:56:37.812Z\"}]},{\"id\":16,\"receita\":\"Ratatouille\",\"ingredientes\":\"1 berinjela, 1 abobrinha, 1 pimentão vermelho, 1 pimentão amarelo, 1 cebola, 2 dentes de alho, 3 tomates maduros, azeite de oliva, sal, pimenta, alecrim e tomilho a gosto\",\"modo_preparo\":\"1. Corte a berinjela, a abobrinha, os pimentões, a cebola e os tomates em rodelas finas. 2. Em uma assadeira, intercale as rodelas de legumes, criando camadas. 3. Regue com azeite de oliva, tempere com sal, pimenta, alecrim e tomilho a gosto. 4. Leve a assadeira ao forno preaquecido a 180°C e asse por cerca de 45 minutos, ou até que os legumes estejam macios e levemente dourados. 5. Sirva o ratatouille quente.\",\"link_imagem\":\"https://img.buzzfeed.com/video-api-prod/assets/eb44570519264864814264f7f0a5e47a/BFV13909_BakedRatatouille-ThumbTextless1080.jpg?resize=1200:*\",\"tipo\":\"salgado\",\"created_at\":\"2023-12-31T01:56:43.598Z\",\"IngredientesBase\":[{\"id\":16,\"nomesIngrediente\":[\"berinjela\",\"abobrinha\",\"pimentão vermelho\",\"pimentão amarelo\",\"cebola\",\"alho\",\"tomates\",\"azeite de oliva\",\"sal\",\"pimenta\",\"alecrim\",\"tomilho\"],\"receita_id\":16,\"created_at\":\"2023-12-31T01:56:43.598Z\"}]},{\"id\":17,\"receita\":\"Ratatouille\",\"ingredientes\":\"1 berinjela, 1 abobrinha, 1 pimentão vermelho, 1 pimentão amarelo, 1 cebola, 2 dentes de alho, 3 tomates maduros, azeite de oliva, sal, pimenta, alecrim e tomilho a gosto\",\"modo_preparo\":\"Corte a berinjela, a abobrinha, os pimentões, a cebola e os tomates em rodelas finas. Em uma assadeira, intercale as rodelas de legumes, criando camadas. Regue com azeite de oliva, tempere com sal, pimenta, alecrim e tomilho a gosto. Leve a assadeira ao forno preaquecido a 180°C e asse por cerca de 45 minutos, ou até que os legumes estejam macios e levemente dourados. Sirva o ratatouille quente.\",\"link_imagem\":\"https://media.chefdehome.com/740/0/0/ratatouille/ratatouille-casserole.jpg\",\"tipo\":\"salgado\",\"created_at\":\"2023-12-31T15:36:42.150Z\",\"IngredientesBase\":[{\"id\":17,\"nomesIngrediente\":[\"berinjela\",\"abobrinha\",\"pimentão vermelho\",\"pimentão amarelo\",\"cebola\",\"alho\",\"tomates\",\"azeite de oliva\",\"sal\",\"pimenta\",\"alecrim\",\"tomilho\"],\"receita_id\":17,\"created_at\":\"2023-12-31T15:36:42.150Z\"}]}]\n",
            "\n"
          ]
        }
      ],
      "source": [
        "# visualizando de forma organizada e com identações\n",
        "print(soup.prettify())"
      ]
    },
    {
      "cell_type": "code",
      "execution_count": 17,
      "id": "9d692fa1",
      "metadata": {
        "colab": {
          "base_uri": "https://localhost:8080/"
        },
        "id": "9d692fa1",
        "outputId": "17c9e33c-cbef-4a89-e151-5d4fccbc6b43"
      },
      "outputs": [
        {
          "name": "stdout",
          "output_type": "stream",
          "text": [
            "Nenhum elemento <li> encontrado.\n"
          ]
        }
      ],
      "source": [
        "#visualizando os item\n",
        "\n",
        "print(list(soup.li))\n",
        "print(soup.head)\n",
        "print(list(soup.p))\n",
        "print(list(soup.title))\n"
      ]
    },
    {
      "cell_type": "code",
      "execution_count": 19,
      "id": "22a79290",
      "metadata": {
        "id": "22a79290",
        "outputId": "c1f83a78-36bd-4085-fc6d-4ec8badeed71"
      },
      "outputs": [
        {
          "name": "stdout",
          "output_type": "stream",
          "text": [
            "Nenhum elemento <li> encontrado ou não é iterável.\n"
          ]
        }
      ],
      "source": [
        "#buscando itens de forma errada\n",
        "for item in list(soup.li):\n",
        "    print(item)"
      ]
    },
    {
      "cell_type": "code",
      "execution_count": 20,
      "id": "e6d8fedd",
      "metadata": {
        "id": "e6d8fedd",
        "outputId": "e5e43391-d17a-4d25-89a7-3d726f8481c4"
      },
      "outputs": [],
      "source": [
        "#buscando itens de forma correta\n",
        "lista = soup.find_all('li')\n",
        "for li in lista:\n",
        "    print(li.text)"
      ]
    },
    {
      "cell_type": "code",
      "execution_count": 21,
      "id": "bcf848e8",
      "metadata": {
        "id": "bcf848e8",
        "outputId": "60678f76-bd91-4e34-82aa-6f11ff5a1975"
      },
      "outputs": [],
      "source": [
        "# busca todos os links\n",
        "links = soup.find_all('a')\n",
        "#print(links, \"\\n\")\n",
        "for link in links:\n",
        "    print(link.get('href'))"
      ]
    },
    {
      "cell_type": "markdown",
      "id": "b0cba9bf",
      "metadata": {
        "id": "b0cba9bf"
      },
      "source": [
        "## Capturando texto de um site de notícias\n",
        "\n",
        "Vamos fazer a requisição da url:\n",
        "\n",
        "`https://economia.uol.com.br/noticias/redacao/2022/03/10/petrobras-anuncia-aumento-nos-precos-de-gasolina-diesel-e-gas-de-cozinha.htm`\n",
        "\n",
        "Na inspeção da pagina, note onde está a tag que contem o conteúdo. \n",
        "\n",
        "Encontrada o conteúdo `div:image-content-pad`\n",
        "\n",
        "![](site1.png)"
      ]
    },
    {
      "cell_type": "code",
      "execution_count": 30,
      "id": "ed3f12e4",
      "metadata": {
        "id": "ed3f12e4",
        "outputId": "b3569d22-0256-4375-a6e0-32fdca51f241"
      },
      "outputs": [
        {
          "name": "stdout",
          "output_type": "stream",
          "text": [
            "Nenhuma receita encontrada.\n"
          ]
        }
      ],
      "source": [
        "import requests\n",
        "from bs4 import BeautifulSoup\n",
        "\n",
        "# URL\n",
        "url = 'https://economia.uol.com.br/noticias/redacao/2022/03/10/petrobras-anuncia-aumento-nos-precos-de-gasolina-diesel-e-gas-de-cozinha.htm'\n",
        "\n",
        "page = requests.get(url)\n",
        "soup = BeautifulSoup(page.content, 'html.parser')\n",
        "\n",
        "# sempre que buscar um elemento em uma class, é necessário usar o underline `class_`.\n",
        "# pois class é uma palavra reservada do python, e o underline é usado para diferenciar a palavra reservada do atributo class do html \n",
        "noticia = soup.find('div', class_=\"image-content-pad\")\n",
        "\n",
        "\n",
        "# outra forma de usar `class`` é usar o dicionário\n",
        "# noticia = soup.find('div', {'class': 'image-content-pad'})\n",
        "\n",
        "\n",
        "\n",
        "\n",
        "# pode conter mais de um paragrafo, por isso find_all e não find. \n",
        "# find_all retorna uma lista com todos os paragrafos\n",
        "# com o for, podemos percorrer cada paragrafo e exibir o texto\n",
        "paragrafos = noticia.find_all('p')\n",
        "for paragrafo in paragrafos:\n",
        "  print (paragrafo.text)"
      ]
    },
    {
      "cell_type": "markdown",
      "id": "e9e92977",
      "metadata": {},
      "source": [
        "### Vamos tentar com uma pagina diferente\n",
        "\n",
        "url: `https://www.uol.com.br/carros/avaliacao/avaliacao-audi-q8-e-tron.htm`\n",
        "\n",
        "o conteudo pode estar em: `div:col-xs-8 col-sm-21 col-md-21`\n"
      ]
    },
    {
      "cell_type": "code",
      "execution_count": 31,
      "id": "11dcbe3a",
      "metadata": {},
      "outputs": [
        {
          "name": "stdout",
          "output_type": "stream",
          "text": [
            "Daniel Neves\n",
            "Do UOL, em São Paulo\n",
            "12/04/2024 04h00 \n",
            "Ele mudou de nome, mas não de essência. O Audi e-tron, que inaugurou a linha de elétricos da montadora alemã, agora se chama Q8 e-tron e ganhou discretas alterações em sua nova linha. A principal novidade está na bateria, que apresenta uma melhora na eficiência que garante maior autonomia ao SUV.\n",
            "Com preços que variam entre R$ 699.990 (Performance Black) a R$ 711.990 (Launch Edition - testada pela reportagem), o utilitário-esportivo ainda é uma boa opção para quem tem esse valor para gastar? É o que o UOL Carros mostra na avaliação abaixo.\n",
            "Design: discreta atualização no visual futurista trouxe novo para-choque, com grade mais destacada e luz indireta na parte superior. Ele também estreia o novo logotipo da Audi, sem relevos. O que chama mais atenção, porém, são as câmeras no lugar do retrovisor - opcional de R$ 15 mil que demanda certa adaptação do motorista. Porta-malas é generoso, oferecendo 569 litros.\n",
            "Equipamentos: destaque para painel de instrumentos configurável de 12,3 polegadas, central multimídia com espelhamento sem fios, piloto automático adaptativo, ar-condicionado de quatro zonas, carregador de celulares por indução, teto solar panorâmico e câmera 360º, além de bancos com aquecimento e massagem.\n",
            "Segurança: pacote com indicador de pontos cegos, frenagem autônoma de emergência, alerta de tráfego cruzado traseiro.\n",
            "Vida a bordo: espaço é bastante confortável, tanto para os ocupantes da frente quanto para duas pessoas que viajam atrás, que também contam com comando e saída de ar-condicionado. Terceiro assento no banco traseiro pode ser substituído por porta-copos embutido. Silêncio na cabine impressiona e é outro ponto positivo.\n",
            "Desempenho: novidade é o motor traseiro projetado para maior eficiência, gerando mesmo torque com menos energia. O resultado final ainda é o mesmo, com 408 cv de potência e 67,7 kgfm de torque. Apesar das dimensões generosas, as respostas ao volante são suaves e o SUV esbanja vitalidade nas acelerações.\n",
            "Consumo: conjunto de baterias cresceu de 95 kWh para 114 kWh, o que contribui para que o SUV atinja autonomia de até 357 km (Inmetro).\n",
            "5,0\n",
            "\n",
            "4,0\n",
            "\n",
            "3,0\n",
            "\n",
            "5,0\n",
            "\n",
            "5,0\n",
            "\n",
            "4,0\n",
            "\n",
            "5,0\n",
            "\n",
            "Com novo nome, o agora Q8 e-tron mudou muito pouco, mas ainda é uma ótima opção para quem busca - e tem bala na agulha - ter um SUV elétrico de grande porte para levar a família. A dirigibilidade e o conforto é o que se espera de um Audi, que ainda melhorou a autonomia. O 'ame ou deixe' continua sendo a câmera no lugar do retrovisor, que exige certa adaptação e pode fazer muitos torcerem o nariz.\n",
            "Motorização \n",
            "   Elétrico (2 motores)   \n",
            "Potência (cv)\n",
            "   408   \n",
            "Torque (kgf.m)\n",
            "   67,7   \n",
            "Aceleração de 0 a 100 (segundos) (km/h)\n",
            "   5,6   \n",
            "Velocidade máxima (km/h)\n",
            "   200   \n",
            "Câmbio\n",
            "   Automático   \n",
            "Tração\n",
            "   Integral   \n",
            "Direção\n",
            "   Elétrica   \n",
            "Suspensão Dianteira\n",
            "   Independente, multibraço   \n",
            "Suspensão Traseira\n",
            "   Independente, multibraço   \n",
            "Freios Dianteiros\n",
            "   Disco ventilado   \n",
            "Freios Traseiros\n",
            "   Disco ventilado   \n",
            "Pneus\n",
            "   265/40   \n",
            "Rodas\n",
            "   22   \n",
            "Altura (mm)\n",
            "   1633   \n",
            "Comprimento (mm)\n",
            "   4915   \n",
            "Entre-eixos (mm)\n",
            "   2.928   \n",
            "Largura (mm)\n",
            "   1.655   \n",
            "Ocupantes\n",
            "   5   \n",
            "Peso (kg)\n",
            "   2.730   \n",
            "Porta-malas (L)\n",
            "   569   \n",
            "Airbags Motorista\n",
            "  \n",
            "Airbags Passageiro\n",
            "  \n",
            "Airbags Laterais\n",
            "  \n",
            "Airbags do tipo Cortina\n",
            "  \n",
            "Controle de Estabilidade\n",
            "  \n",
            "Controle de Tração\n",
            "  \n",
            "Freios ABS\n",
            "  \n",
            "Distribuição Eletrônica de Frenagem\n",
            "  \n",
            "Ar-Condicionado\n",
            "  \n",
            "Travas Elétricas\n",
            "  \n",
            "Ar Quente\n",
            "  \n",
            "Piloto Automático\n",
            "  \n",
            "Volante com Regulagem de Altura\n",
            "  \n",
            "Vidros Elétricos Dianteiros\n",
            "  \n",
            "Vidros Elétricos Traseiros\n",
            "  \n",
            "Central Multimídia\n",
            "  \n",
            "Rádio FM/AM\n",
            "  \n",
            "Entrada USB\n",
            "  \n",
            "Entrada Auxiliar\n",
            "  \n",
            "Banco do motorista com ajuste de altura\n",
            "  \n",
            "Bancos com ajustes elétricos\n",
            "  \n",
            "Desembaçador Traseiro\n",
            "  \n",
            "Teto Solar\n",
            "  \n",
            "Computador de Bordo\n",
            "  \n",
            "Acendimento automático dos faróis\n",
            "  \n",
            "Faróis de neblina\n",
            "  \n",
            "Frenagem autônoma de emergência\n",
            "  \n",
            "Alerta de permanência em faixa\n",
            "  \n",
            "Sensor de pontos cegos\n",
            "  \n",
            "Alerta de colisão\n",
            "  \n",
            "Abertura elétrica do porta-malas\n",
            "  \n",
            " ID: {{comments.info.id}}URL: {{comments.info.url}}\n",
            "Por favor, tente novamente mais tarde.\n",
            "\n",
            "Não é possivel enviar novos comentários.\n",
            "Essa área é exclusiva para você, assinante, ler e comentar.\n",
            "Ainda não é assinante? Assine já.\n",
            "Se você já é assinante do UOL, faça seu login.\n",
            "O autor da mensagem, e não o UOL, é o responsável pelo comentário. Reserve um tempo para ler as Regras de Uso para comentários.\n",
            "\n",
            "\n"
          ]
        }
      ],
      "source": [
        "import requests\n",
        "from bs4 import BeautifulSoup \n",
        "\n",
        "# URL\n",
        "url = 'https://www.uol.com.br/carros/avaliacao/avaliacao-audi-q8-e-tron.htm'\n",
        "\n",
        "page = requests.get(url)\n",
        "soup = BeautifulSoup(page.content, 'html.parser')\n",
        "\n",
        "\n",
        "# noticia = soup.find('div', class_=\"mt-100 container grid\")\n",
        "\n",
        "noticia = soup.find('div', class_=\"col-xs-8 col-sm-21 col-md-21\")\n",
        "\n",
        "paragrafos = noticia.find_all('p')\n",
        "\n",
        "for paragrafo in paragrafos:\n",
        "  print (paragrafo.text)"
      ]
    },
    {
      "cell_type": "markdown",
      "id": "32d60784",
      "metadata": {},
      "source": [
        "### podemos melhorar um pouco mais essa captura de conteúdo\n",
        "\n",
        "Vamos inspecionar e tentar capturar apenas os dados da tabela.\n",
        "\n",
        "![](site2.png)\n",
        "\n",
        "\n",
        "Perceba que:\n",
        "\n",
        "- Podemos buscar todos os elementos `ul` com a classe `table-line`, que contêm os dados.\n",
        "    \n",
        "    - Para cada `ul`, localizar os elementos `li` para `label-spec` e `desc-spec` ou `desc-spec check`.\n",
        "\n",
        "    - Extrair o texto de cada `li`, remover espaços extras com `strip()`, e imprime em formato de chave-valor."
      ]
    },
    {
      "cell_type": "code",
      "execution_count": 14,
      "id": "32b8ef60",
      "metadata": {},
      "outputs": [],
      "source": [
        "import requests\n",
        "from bs4 import BeautifulSoup \n",
        "\n",
        "# URL\n",
        "url = 'https://www.uol.com.br/carros/avaliacao/avaliacao-audi-q8-e-tron.htm'\n",
        "\n",
        "page = requests.get(url)\n",
        "soup = BeautifulSoup(page.content, 'html.parser')\n",
        "\n",
        "\n",
        "# Encontrar todos os 'ul' que contêm as especificações do carro\n",
        "spec_list = soup.find_all('ul', class_='table-line')\n",
        "\n",
        "# Iterar sobre cada 'ul' e extrair os pares de label e descrição\n",
        "for spec in spec_list:\n",
        "    label = spec.find('li', class_='label-spec').text.strip()\n",
        "    descricao = spec.find('li', class_='desc-spec') or spec.find('li', class_='desc-spec check')\n",
        "    \n",
        "    # Verificar se o item é um check\n",
        "    if 'check' in descricao['class']:\n",
        "        descricao = \"Sim\"\n",
        "    else:\n",
        "        descricao = descricao.text.strip()\n",
        "    print(f'{label}: {descricao}')"
      ]
    },
    {
      "cell_type": "markdown",
      "id": "651535dc",
      "metadata": {},
      "source": [
        "## Desafio\n",
        "\n",
        "Hora de práticar! Faça uma raspagem simples. Para isso:\n",
        "\n",
        "- Escolha um site e uma notícia especifica, de sua preferencia;\n",
        "- Façaa inspeção do site e utilize `requests` para capturar o conteúdo HTML. \n",
        "- Use `BeautfulSoup` para realizar o parce das informações.\n",
        "- Organize o conteúdo capturado de forma conveniente, faça adaptações no código para organizar o conteúdo em tabelas e etc...\n",
        "\n"
      ]
    },
    {
      "cell_type": "code",
      "execution_count": 34,
      "id": "0c5e2f09",
      "metadata": {},
      "outputs": [
        {
          "name": "stdout",
          "output_type": "stream",
          "text": [
            "{\"message\":\"Internal Server Error\"}\n",
            "\n"
          ]
        }
      ],
      "source": [
        "# Vou começar e você continua....\n",
        "\n",
        "import requests\n",
        "from bs4 import BeautifulSoup\n",
        "\n",
        "# URL\n",
        "url = 'https://gold-anemone-wig.cyclic.app/receitas/todas'\n",
        "\n",
        "page = requests.get(url)\n",
        "soup = BeautifulSoup(page.content, 'html.parser')\n",
        "\n",
        "# Visualizar o conteúdo da página\n",
        "print(soup.prettify())\n",
        "\n",
        "\n",
        "# sua vez, seu código aqui....\n",
        "\n",
        "\n",
        "\n",
        "\n",
        "\n",
        "\n",
        "\n",
        "\n",
        "\n",
        "\n",
        "\n"
      ]
    },
    {
      "cell_type": "markdown",
      "id": "6cd79e05",
      "metadata": {
        "id": "6cd79e05"
      },
      "source": [
        "## Informações de filmes em cartaz\n",
        "\n",
        "Vamos realizar a captura dos filmes que estão em cartaz."
      ]
    },
    {
      "cell_type": "code",
      "execution_count": 4,
      "id": "db46122f",
      "metadata": {
        "id": "db46122f",
        "outputId": "f3e3e69f-acec-44b9-a3a7-be15bfdaedff"
      },
      "outputs": [
        {
          "name": "stdout",
          "output_type": "stream",
          "text": [
            "A Paixão Segundo GH\n",
            "Depois da Morte\n",
            "Evidências do Amor\n",
            "Ghostbusters: Apocalipse de Gelo\n",
            "Ghostbusters: Apocalipse de...\n",
            "O Sabor da Vida\n",
            "Pearl Jam - Dark Matter\n",
            "Um Gato de Sorte\n",
            "A Primeira Profecia\n",
            "O Homem dos Sonhos\n",
            "Uma Família Feliz\n",
            "Uma Prova de Coragem\n",
            "Dois é Demais em Orlando\n"
          ]
        }
      ],
      "source": [
        "import requests\n",
        "from bs4 import BeautifulSoup\n",
        "\n",
        "# user-agent contra banners\n",
        "header = {\n",
        "    \"user-agent\": \"Mozilla/5.0 (X11; Linux x86_64) AppleWebKit/537.36 (KHTML, like Gecko) Chrome/51.0.2704.103 Safari/537.36\"\n",
        "}\n",
        "\n",
        "url = \"https://www.cinemark.com.br/sao-paulo/filmes/em-cartaz\"\n",
        "\n",
        "page = requests.get(url, headers = header)\n",
        "\n",
        "soup = BeautifulSoup(page.text)\n",
        "\n",
        "listas = soup.find_all('div', class_=\"col-sm-6 col-md-3\")\n",
        "\n",
        "\n",
        "for lista in listas:\n",
        "    texto_titulo = lista.find(class_=\"movie-title\").text.strip()\n",
        "   \n",
        "    print(texto_titulo)\n"
      ]
    },
    {
      "cell_type": "code",
      "execution_count": 2,
      "id": "05544522",
      "metadata": {},
      "outputs": [
        {
          "name": "stderr",
          "output_type": "stream",
          "text": [
            "/Users/arnaldoalvesvianajunior/Library/Python/3.9/lib/python/site-packages/urllib3/__init__.py:34: NotOpenSSLWarning: urllib3 v2.0 only supports OpenSSL 1.1.1+, currently the 'ssl' module is compiled with 'LibreSSL 2.8.3'. See: https://github.com/urllib3/urllib3/issues/3020\n",
            "  warnings.warn(\n"
          ]
        },
        {
          "name": "stdout",
          "output_type": "stream",
          "text": [
            "Reading and Writing more than 4096 bytes to and from STDIN\n",
            "I'm trying to implement a here document like the one used in bash (in C), but I noticed that I can't give it a line that's longer than 4096 bytes, I looked it up and It was because of the max size of ...\n",
            "\n",
            "GitHub actions - store windows file name into a variable\n",
            "with github actions i want to store the name of an logfile wich is dynamically created into an variable. I tried the following: - name: GetLogfile name if: success() || failure() id: ...\n",
            "\n",
            "Maximum Update Depth Exceeded on a search modal\n",
            "I have a dynamic search modal that queries the backend as users type. When a user selects one of the options it saves that option in state and is rendered as a Chip component. However, after updating ...\n",
            "\n",
            "Project owner creating 2 manager users with admin panels for their organization to manage employees\n",
            "**I am creating a Visitor management system for multiple organizations, i(the owner) am the admin and creating managerial access for each organization, so they can create the employees and give ...\n",
            "\n",
            "Fine-tuned openAI API is giving NotFoundError: Error code: 404\n",
            "this is my first openAI fine-tuning job so I don't know much. I am trying to fine-tune OpenAI API to generate product ID based on the description. The code runs successfully and also generates model ...\n",
            "\n",
            "Best PowerShell method to get the Active Directory Site name of the local computer\n",
            "What are the different ways to get the current Active Directory site in PowerShell - and which is the fastest, most efficient, and works under the most scenarios?\n",
            "\n",
            "Node Js how to find roles for a interaction.member?\n",
            "if(interaction.commandName === \"check\") { const sender = interaction.user; if(!sender.member.roles.has(1083843028772474965 || 1083843028772474960 || 1083843028743110727)) return (interaction....\n",
            "\n",
            "Are these Kotlin functions equivalent?\n",
            "I've not been using Kotlin for long but I came across a code base using these patterns and I wondered if these 3 extension functions are equivalent, or is there some subtle difference in behaviour? ...\n",
            "\n",
            "How to render table from react-markdown with react-typed\n",
            "I have a react component which gets a message and renders it with react-typed and react-markdown. This is an example from the code: <ReactTyped showCursor={false} strings={[ ...\n",
            "\n",
            "how to convert list of json object from pyspark column dataframe into a pyspark dataframe\n",
            "My problem is described in detail in a similar article (how to convert list of json object into a single pyspark dataframe?). But I have a PySpark DataFrame with column joinresults ...\n",
            "\n",
            "How to create multiple application ID apks with different firebase project using single code base\n",
            "Background : I am developing a kotlin android app linked to firebase , already uploaded to google playstore. I need to upload identical app to google playstore with a different id and a name with a ...\n",
            "\n",
            "How to save state of filter search performed on Tab using TabPanel with index 0 when moving back from TabPanel with index 1\n",
            "I have a Function component where I have tabs designed in div as below. There are two tabs which are loaded with data when we land on the page and I have filtering turned on for both tabs. I can see ...\n",
            "\n",
            "What solving algorithm for a cut sum function\n",
            "I'm looking for a solving algorithm for the following problem. the vector of w and a value for e hast to be found. The Main Problem is a costs function to minimize with term above as divider. The ...\n",
            "\n",
            "AWS XRay unable to sending tracing data to AWS XRay console\n",
            "i installed xray daemon installed in local linux machine. created AWs acceskey and secrectkey configure my local. created role permission AWSXrayFullAccess using aws sdk my nodejs project below my ...\n",
            "\n",
            "Apply key values to a dictionary from a dictionary\n",
            "The title says it all. I want to do an operation to apply key values to a dictionary from a dictionary Here, I'll explain what I meant. I have these long dictionaries initialized in my code. local ...\n",
            "\n"
          ]
        }
      ],
      "source": [
        "\n",
        "### Esse código encontrei na internet, fiz apenas algumas adaptaçoes para o nosso contexto de aula.\n",
        "### Basicamente ele pega as perguntas do stackoverflow e exibe na tela. \n",
        "### A ideia é que vocês possam entender o código e fazer um similar para pegar as notícias do UOL ou do G1 por exemplo.\n",
        "\n",
        "\n",
        "\"\"\"\n",
        "OBJETIVO:\n",
        "  - Extraer las preguntas de la página principal de Stackoverflow\n",
        "  - Aprender a utilizar Beautiful Soup para parsear el árbol HTML\n",
        "CREADO POR: LEONARDO KUFFO\n",
        "ÚLTIMA VEZ EDITADO: 12 ABRIL 2020\n",
        "\"\"\"\n",
        "import requests\n",
        "from bs4 import BeautifulSoup  # pip install beautifulsoup4\n",
        "\n",
        "# Definición de los headers para simular un navegador y evitar bloqueos por parte del servidor\n",
        "headers = {\n",
        "    \"User-Agent\": \"Mozilla/5.0 (X11; Linux x86_64) AppleWebKit/537.36 (KHTML, like Gecko) Ubuntu Chromium/71.0.3578.80 Chrome/71.0.3578.80 Safari/537.36\"\n",
        "}\n",
        "\n",
        "# URL de la página de preguntas de StackOverflow\n",
        "url = 'https://stackoverflow.com/questions'\n",
        "\n",
        "# Realizar la solicitud al servidor\n",
        "response = requests.get(url, headers=headers)\n",
        "\n",
        "# Verificar si la solicitud fue exitosa\n",
        "if response.status_code == 200:\n",
        "    # Parsear el HTML de la página usando Beautiful Soup\n",
        "    soup = BeautifulSoup(response.text, 'html.parser')\n",
        "    question_container = soup.find(id=\"questions\")  # Encontrar el contenedor de preguntas por ID\n",
        "\n",
        "    if question_container:\n",
        "        question_list = question_container.find_all('div', class_=\"s-post-summary js-post-summary\")  # Encontrar todas las preguntas\n",
        "\n",
        "        for question in question_list:  # Iterar sobre cada pregunta\n",
        "            # Extraer el texto de la pregunta\n",
        "            question_title = question.find('h3').text.strip()\n",
        "            # Extraer la descripción de la pregunta\n",
        "            question_desc = question.find('div', class_=\"s-post-summary--content-excerpt\").text.strip()\n",
        "            question_desc = ' '.join(question_desc.split())  # Limpiar espacios extra\n",
        "\n",
        "            print(question_title)\n",
        "            print(question_desc)\n",
        "            print()\n",
        "    else:\n",
        "        print(\"No se encontró el contenedor de preguntas.\")\n",
        "else:\n",
        "    print(\"Error en la solicitud:\", response.status_code)\n"
      ]
    },
    {
      "cell_type": "markdown",
      "id": "c91b6988",
      "metadata": {
        "id": "c91b6988"
      },
      "source": [
        "## Estruturando o código, Capiturando dados de ações e visualizando com Pandas dataframe\n",
        "\n",
        "As boas práticas continuam, e podemos organizar nosso código em funções para facilitar a manutenção e legibilidade.\n",
        "\n",
        "Vamos fazer raspagem de dados do site de finanças Yahoo para obter informações sobre os componentes do índice Bovespa (BVSP). \n",
        "\n",
        "O objetivo é capturar dados sobre 30 principais empresas listadas neste índice, incluindo símbolo, nome da empresa, último preço, variação e volume, e depois armazená-los em um DataFrame do Pandas"
      ]
    },
    {
      "cell_type": "code",
      "execution_count": 21,
      "id": "b313e426",
      "metadata": {
        "id": "b313e426",
        "outputId": "ba05a480-dd0e-4d31-923b-3b9fe955f9af"
      },
      "outputs": [
        {
          "name": "stdout",
          "output_type": "stream",
          "text": [
            "Dados salvos em dados_bovespa.csv\n",
            "     Símbolo                                    Nome da Empresa Último Preço  \\\n",
            "0   EMBR3.SA                                       Embraer S.A.        31,42   \n",
            "1   CTIP3.SA                                           CTIP3.SA                \n",
            "2   ENBR3.SA                                           ENBR3.SA                \n",
            "3   CESP6.SA                                           CESP6.SA                \n",
            "4   CPLE6.SA            Companhia Paranaense de Energia - COPEL         9,22   \n",
            "5   BRPR3.SA                                 BR Properties S.A.       131,17   \n",
            "6   CPFE3.SA                                  CPFL Energia S.A.        35,15   \n",
            "7   BBSE3.SA                   BB Seguridade Participações S.A.        33,01   \n",
            "8   ECOR3.SA        EcoRodovias Infraestrutura e Logística S.A.         7,65   \n",
            "9   CIEL3.SA                                         Cielo S.A.         5,46   \n",
            "10  CSNA3.SA                     Companhia Siderúrgica Nacional        14,39   \n",
            "11  ABEV3.SA                                         Ambev S.A.        12,07   \n",
            "12  EQTL3.SA                            Equatorial Energia S.A.        31,49   \n",
            "13  BBAS3.SA                               Banco do Brasil S.A.        56,46   \n",
            "14  CMIG4.SA       Companhia Energética de Minas Gerais - CEMIG        12,97   \n",
            "15  BBDC3.SA                                Banco Bradesco S.A.        12,43   \n",
            "16  BRAP4.SA                                     Bradespar S.A.        20,88   \n",
            "17  ELET3.SA   Centrais Elétricas Brasileiras S.A. - Eletrobrás        38,49   \n",
            "18  BBDC4.SA                                Banco Bradesco S.A.        14,00   \n",
            "19  BRKM5.SA                                       Braskem S.A.        23,30   \n",
            "20  CCRO3.SA                                           CCR S.A.        13,00   \n",
            "21  CSAN3.SA                                         Cosan S.A.        14,40   \n",
            "22  GGBR4.SA                                        Gerdau S.A.        23,09   \n",
            "23  CYRE3.SA  Cyrela Brazil Realty S.A. Empreendimentos e Pa...        21,35   \n",
            "24  BRFS3.SA                                           BRF S.A.        17,90   \n",
            "25  ESTC3.SA                                           ESTC3.SA                \n",
            "26  BVMF3.SA                                           BVMF3.SA                \n",
            "27    656690                                             656690                \n",
            "28  BRML3.SA                                           BRML3.SA                \n",
            "29  FIBR3.SA                               Fibria Celulose S.A.                \n",
            "\n",
            "   Alterar Variação Volume  \n",
            "0    -0,34   -1,07%      0  \n",
            "1                           \n",
            "2                           \n",
            "3                           \n",
            "4     0,00    0,00%      0  \n",
            "5     0,00    0,00%      0  \n",
            "6     0,03   +0,09%      0  \n",
            "7     0,04   +0,12%      0  \n",
            "8     0,01   +0,13%      0  \n",
            "9    -0,01   -0,18%      0  \n",
            "10    0,04   +0,28%      0  \n",
            "11   -0,05   -0,41%      0  \n",
            "12   -0,15   -0,47%      0  \n",
            "13   -0,53   -0,93%      0  \n",
            "14    0,12   +0,93%      0  \n",
            "15   -0,12   -0,96%      0  \n",
            "16    0,25   +1,21%      0  \n",
            "17   -0,53   -1,36%      0  \n",
            "18   -0,21   -1,48%      0  \n",
            "19   -0,47   -1,98%      0  \n",
            "20   -0,31   -2,33%      0  \n",
            "21   -0,48   -3,23%      0  \n",
            "22    0,78   +3,50%      0  \n",
            "23   -1,37   -6,03%      0  \n",
            "24    1,65  +10,15%      0  \n",
            "25                          \n",
            "26                          \n",
            "27                          \n",
            "28                          \n",
            "29                          \n"
          ]
        }
      ],
      "source": [
        "import pandas as pd\n",
        "from bs4 import BeautifulSoup\n",
        "import requests\n",
        "\n",
        "def get_page(url):\n",
        "    headers = {\n",
        "        \"user-agent\": \"Mozilla/5.0 (X11; Linux x86_64) AppleWebKit/537.36 (KHTML, like Gecko) Ubuntu Chromium/71.0.3578.80 Chrome/71.0.3578.80 Safari/537.36\"\n",
        "    }\n",
        "    response = requests.get(url, headers=headers)\n",
        "    response.raise_for_status()  # Garante que a resposta da requisição foi bem-sucedida\n",
        "    return response.text\n",
        "\n",
        "def parse_data(html):\n",
        "    soup = BeautifulSoup(html, 'html.parser')\n",
        "    \n",
        "    dados = [] # Lista para armazenar os dados\n",
        "    \n",
        "    cabecalho_tabela = [\"Símbolo\", \"Nome da Empresa\", \"Último Preço\", \"Alterar\", \"Variação\", \"Volume\"] # Cabeçalho da tabela\n",
        "    \n",
        "    # pegar os dados da tabela\n",
        "    # a classe da tabela é \"BdT Bdc($seperatorColor) Ta(end) Fz(s)\"\n",
        "    linhas_tabela = soup.find_all('tr', class_=\"BdT Bdc($seperatorColor) Ta(end) Fz(s)\")\n",
        "\n",
        "    for linha in linhas_tabela:\n",
        "        valores = [] # Lista para armazenar os valores de cada linha\n",
        "\n",
        "        # cada coluna é um td na linha da tabela \n",
        "        coluna = linha.find_all('td') # Encontrar todas as colunas da linha\n",
        "    \n",
        "        for valor in coluna:\n",
        "            valor = valor.text.strip() # Limpar o texto\n",
        "            valores.append(valor) # Adicionar o valor na lista de valores\n",
        "\n",
        "        #-----ja temos os valores da linha, agora vamos criar um dicionário com os valores e o cabeçalho da tabela---    \n",
        "\n",
        "        try:\n",
        "            info = dict(zip(cabecalho_tabela, valores)) # Criar um dicionário `info` com os valores e o cabeçalho da tabela\n",
        "            dados.append(info) # Adicionar o dicionário na lista de dados\n",
        "        except Exception as e:\n",
        "            error_msg = f'Erro {e} na captura de dados para a linha: {info}'\n",
        "            print(error_msg)\n",
        "            dados.append({'error': error_msg})\n",
        "    return dados\n",
        "\n",
        "\n",
        "def save_to_csv(data, filename=\"output.csv\"):\n",
        "    df = pd.DataFrame(data)\n",
        "    df.to_csv(filename, index=False)\n",
        "    print(f'Dados salvos em {filename}')\n",
        "    return df\n",
        "\n",
        "def main():\n",
        "    url = 'https://br.financas.yahoo.com/quote/%5EBVSP/components/'\n",
        "    html = get_page(url)\n",
        "    data = parse_data(html)\n",
        "    df = save_to_csv(data, \"dados_bovespa.csv\")\n",
        "    print(df)\n",
        "\n",
        "if __name__ == \"__main__\":\n",
        "    main()\n"
      ]
    },
    {
      "cell_type": "code",
      "execution_count": 5,
      "id": "7aaabe23",
      "metadata": {
        "id": "7aaabe23",
        "outputId": "d4ac371e-052a-4c2a-8b23-a8516f5ecfa7"
      },
      "outputs": [
        {
          "data": {
            "text/html": [
              "<div>\n",
              "<style scoped>\n",
              "    .dataframe tbody tr th:only-of-type {\n",
              "        vertical-align: middle;\n",
              "    }\n",
              "\n",
              "    .dataframe tbody tr th {\n",
              "        vertical-align: top;\n",
              "    }\n",
              "\n",
              "    .dataframe thead th {\n",
              "        text-align: right;\n",
              "    }\n",
              "</style>\n",
              "<table border=\"1\" class=\"dataframe\">\n",
              "  <thead>\n",
              "    <tr style=\"text-align: right;\">\n",
              "      <th></th>\n",
              "      <th>Símbolo</th>\n",
              "      <th>Nome da Empresa</th>\n",
              "      <th>Último Preço</th>\n",
              "      <th>Alterar</th>\n",
              "      <th>Variação</th>\n",
              "      <th>Volume</th>\n",
              "    </tr>\n",
              "  </thead>\n",
              "  <tbody>\n",
              "    <tr>\n",
              "      <th>0</th>\n",
              "      <td>EMBR3.SA</td>\n",
              "      <td>Embraer S.A.</td>\n",
              "      <td>31,42</td>\n",
              "      <td>-0,34</td>\n",
              "      <td>-1,07%</td>\n",
              "      <td>0.0</td>\n",
              "    </tr>\n",
              "    <tr>\n",
              "      <th>1</th>\n",
              "      <td>CTIP3.SA</td>\n",
              "      <td>CTIP3.SA</td>\n",
              "      <td>NaN</td>\n",
              "      <td>NaN</td>\n",
              "      <td>NaN</td>\n",
              "      <td>NaN</td>\n",
              "    </tr>\n",
              "    <tr>\n",
              "      <th>2</th>\n",
              "      <td>ENBR3.SA</td>\n",
              "      <td>ENBR3.SA</td>\n",
              "      <td>NaN</td>\n",
              "      <td>NaN</td>\n",
              "      <td>NaN</td>\n",
              "      <td>NaN</td>\n",
              "    </tr>\n",
              "    <tr>\n",
              "      <th>3</th>\n",
              "      <td>CESP6.SA</td>\n",
              "      <td>CESP6.SA</td>\n",
              "      <td>NaN</td>\n",
              "      <td>NaN</td>\n",
              "      <td>NaN</td>\n",
              "      <td>NaN</td>\n",
              "    </tr>\n",
              "    <tr>\n",
              "      <th>4</th>\n",
              "      <td>CPLE6.SA</td>\n",
              "      <td>Companhia Paranaense de Energia - COPEL</td>\n",
              "      <td>9,22</td>\n",
              "      <td>0,00</td>\n",
              "      <td>0,00%</td>\n",
              "      <td>0.0</td>\n",
              "    </tr>\n",
              "  </tbody>\n",
              "</table>\n",
              "</div>"
            ],
            "text/plain": [
              "    Símbolo                          Nome da Empresa Último Preço Alterar  \\\n",
              "0  EMBR3.SA                             Embraer S.A.        31,42   -0,34   \n",
              "1  CTIP3.SA                                 CTIP3.SA          NaN     NaN   \n",
              "2  ENBR3.SA                                 ENBR3.SA          NaN     NaN   \n",
              "3  CESP6.SA                                 CESP6.SA          NaN     NaN   \n",
              "4  CPLE6.SA  Companhia Paranaense de Energia - COPEL         9,22    0,00   \n",
              "\n",
              "  Variação  Volume  \n",
              "0   -1,07%     0.0  \n",
              "1      NaN     NaN  \n",
              "2      NaN     NaN  \n",
              "3      NaN     NaN  \n",
              "4    0,00%     0.0  "
            ]
          },
          "execution_count": 5,
          "metadata": {},
          "output_type": "execute_result"
        }
      ],
      "source": [
        "import pandas as pd\n",
        "\n",
        "df = pd.read_csv(\"dados_bovespa.csv\")\n",
        "df.head()\n"
      ]
    }
  ],
  "metadata": {
    "colab": {
      "provenance": []
    },
    "kernelspec": {
      "display_name": "Python 3 (ipykernel)",
      "language": "python",
      "name": "python3"
    },
    "language_info": {
      "codemirror_mode": {
        "name": "ipython",
        "version": 3
      },
      "file_extension": ".py",
      "mimetype": "text/x-python",
      "name": "python",
      "nbconvert_exporter": "python",
      "pygments_lexer": "ipython3",
      "version": "3.12.2"
    }
  },
  "nbformat": 4,
  "nbformat_minor": 5
}
